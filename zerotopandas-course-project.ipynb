{
 "cells": [
  {
   "cell_type": "markdown",
   "metadata": {},
   "source": [
    "# FIFA Worldcup 1930-2014 \n",
    "### An Exploratory Data Analysis.\n",
    "\n",
    "An informative dataset of all the FIFA Worldcup Matches from the beginning i.e. 1930 up until 2014 has been picked up from Kaggle.(https://www.kaggle.com/abecklas/fifa-world-cup) \n",
    "We will be performing some cleaning and relative analysis on the dataset to draw some conclusion with the help of data analysis libraries(pandas, numpy) and data visualization libraries (matplotlib, seaborn). "
   ]
  },
  {
   "cell_type": "markdown",
   "metadata": {},
   "source": [
    "### Downloading the Libraries\n",
    "The libraries that will be utilized for the length of this project are:\n",
    "<br>Pandas\n",
    "<br>NumPy\n",
    "<br>Matplotlib\n",
    "<br>Seaborn\n",
    "<br>Jovian\n",
    "<br>We shall download and import the above mentioned libraries."
   ]
  },
  {
   "cell_type": "code",
   "execution_count": 1,
   "metadata": {},
   "outputs": [],
   "source": [
    "!pip install jovian opendatasets --upgrade --quiet"
   ]
  },
  {
   "cell_type": "code",
   "execution_count": 2,
   "metadata": {},
   "outputs": [
    {
     "name": "stdout",
     "output_type": "stream",
     "text": [
      "Requirement already satisfied: numpy in /srv/conda/envs/notebook/lib/python3.8/site-packages (1.19.1)\r\n",
      "Requirement already satisfied: seaborn in /srv/conda/envs/notebook/lib/python3.8/site-packages (0.10.1)\r\n",
      "Requirement already satisfied: pandas in /srv/conda/envs/notebook/lib/python3.8/site-packages (1.1.2)\r\n",
      "Requirement already satisfied: matplotlib in /srv/conda/envs/notebook/lib/python3.8/site-packages (3.3.0)\r\n",
      "Requirement already satisfied: scipy>=1.0.1 in /srv/conda/envs/notebook/lib/python3.8/site-packages (from seaborn) (1.5.2)\r\n",
      "Requirement already satisfied: pytz>=2017.2 in /srv/conda/envs/notebook/lib/python3.8/site-packages (from pandas) (2020.1)\r\n",
      "Requirement already satisfied: python-dateutil>=2.7.3 in /srv/conda/envs/notebook/lib/python3.8/site-packages (from pandas) (2.8.1)\r\n",
      "Requirement already satisfied: cycler>=0.10 in /srv/conda/envs/notebook/lib/python3.8/site-packages (from matplotlib) (0.10.0)\r\n",
      "Requirement already satisfied: pyparsing!=2.0.4,!=2.1.2,!=2.1.6,>=2.0.3 in /srv/conda/envs/notebook/lib/python3.8/site-packages (from matplotlib) (2.4.7)\r\n",
      "Requirement already satisfied: pillow>=6.2.0 in /srv/conda/envs/notebook/lib/python3.8/site-packages (from matplotlib) (7.2.0)\r\n",
      "Requirement already satisfied: kiwisolver>=1.0.1 in /srv/conda/envs/notebook/lib/python3.8/site-packages (from matplotlib) (1.2.0)\r\n",
      "Requirement already satisfied: six>=1.5 in /srv/conda/envs/notebook/lib/python3.8/site-packages (from python-dateutil>=2.7.3->pandas) (1.15.0)\r\n"
     ]
    }
   ],
   "source": [
    "!pip install numpy seaborn pandas matplotlib\n"
   ]
  },
  {
   "cell_type": "code",
   "execution_count": 3,
   "metadata": {},
   "outputs": [],
   "source": [
    "import numpy as np\n",
    "import pandas as pd\n",
    "import seaborn as sns\n",
    "import matplotlib.pyplot as plt\n",
    "import jovian\n",
    "%matplotlib inline"
   ]
  },
  {
   "cell_type": "markdown",
   "metadata": {},
   "source": [
    "### Loading the Data set\n",
    "<br>We will be dealing with 3 data sets.\n",
    "<br>WorldCupMatches - contains all the matches and their details\n",
    "<br>WorldCups- contains all the 84 world cup matches and some information about each\n",
    "<br>WorldCupPlayers - contains individual player information"
   ]
  },
  {
   "cell_type": "code",
   "execution_count": 4,
   "metadata": {},
   "outputs": [
    {
     "name": "stdout",
     "output_type": "stream",
     "text": [
      "Please provide your Kaggle credentials to download this dataset. Learn more: http://bit.ly/kaggle-creds\n",
      "Your Kaggle username: radhikaganapathy\n",
      "Your Kaggle Key: ········\n"
     ]
    },
    {
     "name": "stderr",
     "output_type": "stream",
     "text": [
      "100%|██████████| 349k/349k [00:00<00:00, 90.1MB/s]"
     ]
    },
    {
     "name": "stdout",
     "output_type": "stream",
     "text": [
      "Downloading fifa-world-cup.zip to ./fifa-world-cup\n",
      "\n"
     ]
    },
    {
     "name": "stderr",
     "output_type": "stream",
     "text": [
      "\n"
     ]
    }
   ],
   "source": [
    "import opendatasets as od\n",
    "dataset_url = 'https://www.kaggle.com/abecklas/fifa-world-cup'\n",
    "od.download('https://www.kaggle.com/abecklas/fifa-world-cup')"
   ]
  },
  {
   "cell_type": "code",
   "execution_count": 5,
   "metadata": {},
   "outputs": [],
   "source": [
    "wc_matches_df = pd.read_csv('fifa-world-cup/WorldCupMatches.csv')\n",
    "wc_cup_df = pd.read_csv('fifa-world-cup/WorldCups.csv')\n",
    "wc_players_df = pd.read_csv('fifa-world-cup/WorldCupPlayers.csv')"
   ]
  },
  {
   "cell_type": "code",
   "execution_count": 6,
   "metadata": {},
   "outputs": [],
   "source": [
    "project_name = \"radhika-course-project\" "
   ]
  },
  {
   "cell_type": "code",
   "execution_count": 7,
   "metadata": {},
   "outputs": [],
   "source": [
    "!pip install jovian --upgrade -q"
   ]
  },
  {
   "cell_type": "code",
   "execution_count": 8,
   "metadata": {},
   "outputs": [],
   "source": [
    "import jovian"
   ]
  },
  {
   "cell_type": "code",
   "execution_count": 9,
   "metadata": {},
   "outputs": [
    {
     "data": {
      "application/javascript": [
       "window.require && require([\"base/js/namespace\"],function(Jupyter){Jupyter.notebook.save_checkpoint()})"
      ],
      "text/plain": [
       "<IPython.core.display.Javascript object>"
      ]
     },
     "metadata": {},
     "output_type": "display_data"
    },
    {
     "name": "stdout",
     "output_type": "stream",
     "text": [
      "[jovian] Attempting to save notebook..\u001b[0m\n",
      "[jovian] Please enter your API key ( from https://jovian.ml/ ):\u001b[0m\n",
      "API KEY: ········\n",
      "[jovian] Updating notebook \"radhikag99/radhika-course-project\" on https://jovian.ml/\u001b[0m\n",
      "[jovian] Uploading notebook..\u001b[0m\n",
      "[jovian] Capturing environment..\u001b[0m\n",
      "[jovian] Committed successfully! https://jovian.ml/radhikag99/radhika-course-project\u001b[0m\n"
     ]
    },
    {
     "data": {
      "text/plain": [
       "'https://jovian.ml/radhikag99/radhika-course-project'"
      ]
     },
     "execution_count": 9,
     "metadata": {},
     "output_type": "execute_result"
    }
   ],
   "source": [
    "jovian.commit(project=project_name)"
   ]
  },
  {
   "cell_type": "markdown",
   "metadata": {},
   "source": [
    "### Data Preparation and Cleaning\n",
    "\n",
    "We will now go through each csv file and clean the data sets which means we will eliminate the irrelevant rows and colums and fill the empty cells with appropriate content so that our analysis is not hindered by the missing values later on.\n",
    "\n"
   ]
  },
  {
   "cell_type": "markdown",
   "metadata": {},
   "source": [
    "Lets have a look at how the data sets are arranged and make note of what needs to be elimminated."
   ]
  },
  {
   "cell_type": "code",
   "execution_count": 10,
   "metadata": {},
   "outputs": [
    {
     "data": {
      "text/html": [
       "<div>\n",
       "<style scoped>\n",
       "    .dataframe tbody tr th:only-of-type {\n",
       "        vertical-align: middle;\n",
       "    }\n",
       "\n",
       "    .dataframe tbody tr th {\n",
       "        vertical-align: top;\n",
       "    }\n",
       "\n",
       "    .dataframe thead th {\n",
       "        text-align: right;\n",
       "    }\n",
       "</style>\n",
       "<table border=\"1\" class=\"dataframe\">\n",
       "  <thead>\n",
       "    <tr style=\"text-align: right;\">\n",
       "      <th></th>\n",
       "      <th>Year</th>\n",
       "      <th>Datetime</th>\n",
       "      <th>Stage</th>\n",
       "      <th>Stadium</th>\n",
       "      <th>City</th>\n",
       "      <th>Home Team Name</th>\n",
       "      <th>Home Team Goals</th>\n",
       "      <th>Away Team Goals</th>\n",
       "      <th>Away Team Name</th>\n",
       "      <th>Win conditions</th>\n",
       "      <th>Attendance</th>\n",
       "      <th>Half-time Home Goals</th>\n",
       "      <th>Half-time Away Goals</th>\n",
       "      <th>Referee</th>\n",
       "      <th>Assistant 1</th>\n",
       "      <th>Assistant 2</th>\n",
       "      <th>RoundID</th>\n",
       "      <th>MatchID</th>\n",
       "      <th>Home Team Initials</th>\n",
       "      <th>Away Team Initials</th>\n",
       "    </tr>\n",
       "  </thead>\n",
       "  <tbody>\n",
       "    <tr>\n",
       "      <th>4567</th>\n",
       "      <td>NaN</td>\n",
       "      <td>NaN</td>\n",
       "      <td>NaN</td>\n",
       "      <td>NaN</td>\n",
       "      <td>NaN</td>\n",
       "      <td>NaN</td>\n",
       "      <td>NaN</td>\n",
       "      <td>NaN</td>\n",
       "      <td>NaN</td>\n",
       "      <td>NaN</td>\n",
       "      <td>NaN</td>\n",
       "      <td>NaN</td>\n",
       "      <td>NaN</td>\n",
       "      <td>NaN</td>\n",
       "      <td>NaN</td>\n",
       "      <td>NaN</td>\n",
       "      <td>NaN</td>\n",
       "      <td>NaN</td>\n",
       "      <td>NaN</td>\n",
       "      <td>NaN</td>\n",
       "    </tr>\n",
       "    <tr>\n",
       "      <th>4568</th>\n",
       "      <td>NaN</td>\n",
       "      <td>NaN</td>\n",
       "      <td>NaN</td>\n",
       "      <td>NaN</td>\n",
       "      <td>NaN</td>\n",
       "      <td>NaN</td>\n",
       "      <td>NaN</td>\n",
       "      <td>NaN</td>\n",
       "      <td>NaN</td>\n",
       "      <td>NaN</td>\n",
       "      <td>NaN</td>\n",
       "      <td>NaN</td>\n",
       "      <td>NaN</td>\n",
       "      <td>NaN</td>\n",
       "      <td>NaN</td>\n",
       "      <td>NaN</td>\n",
       "      <td>NaN</td>\n",
       "      <td>NaN</td>\n",
       "      <td>NaN</td>\n",
       "      <td>NaN</td>\n",
       "    </tr>\n",
       "    <tr>\n",
       "      <th>4569</th>\n",
       "      <td>NaN</td>\n",
       "      <td>NaN</td>\n",
       "      <td>NaN</td>\n",
       "      <td>NaN</td>\n",
       "      <td>NaN</td>\n",
       "      <td>NaN</td>\n",
       "      <td>NaN</td>\n",
       "      <td>NaN</td>\n",
       "      <td>NaN</td>\n",
       "      <td>NaN</td>\n",
       "      <td>NaN</td>\n",
       "      <td>NaN</td>\n",
       "      <td>NaN</td>\n",
       "      <td>NaN</td>\n",
       "      <td>NaN</td>\n",
       "      <td>NaN</td>\n",
       "      <td>NaN</td>\n",
       "      <td>NaN</td>\n",
       "      <td>NaN</td>\n",
       "      <td>NaN</td>\n",
       "    </tr>\n",
       "    <tr>\n",
       "      <th>4570</th>\n",
       "      <td>NaN</td>\n",
       "      <td>NaN</td>\n",
       "      <td>NaN</td>\n",
       "      <td>NaN</td>\n",
       "      <td>NaN</td>\n",
       "      <td>NaN</td>\n",
       "      <td>NaN</td>\n",
       "      <td>NaN</td>\n",
       "      <td>NaN</td>\n",
       "      <td>NaN</td>\n",
       "      <td>NaN</td>\n",
       "      <td>NaN</td>\n",
       "      <td>NaN</td>\n",
       "      <td>NaN</td>\n",
       "      <td>NaN</td>\n",
       "      <td>NaN</td>\n",
       "      <td>NaN</td>\n",
       "      <td>NaN</td>\n",
       "      <td>NaN</td>\n",
       "      <td>NaN</td>\n",
       "    </tr>\n",
       "    <tr>\n",
       "      <th>4571</th>\n",
       "      <td>NaN</td>\n",
       "      <td>NaN</td>\n",
       "      <td>NaN</td>\n",
       "      <td>NaN</td>\n",
       "      <td>NaN</td>\n",
       "      <td>NaN</td>\n",
       "      <td>NaN</td>\n",
       "      <td>NaN</td>\n",
       "      <td>NaN</td>\n",
       "      <td>NaN</td>\n",
       "      <td>NaN</td>\n",
       "      <td>NaN</td>\n",
       "      <td>NaN</td>\n",
       "      <td>NaN</td>\n",
       "      <td>NaN</td>\n",
       "      <td>NaN</td>\n",
       "      <td>NaN</td>\n",
       "      <td>NaN</td>\n",
       "      <td>NaN</td>\n",
       "      <td>NaN</td>\n",
       "    </tr>\n",
       "  </tbody>\n",
       "</table>\n",
       "</div>"
      ],
      "text/plain": [
       "      Year Datetime Stage Stadium City Home Team Name  Home Team Goals  \\\n",
       "4567   NaN      NaN   NaN     NaN  NaN            NaN              NaN   \n",
       "4568   NaN      NaN   NaN     NaN  NaN            NaN              NaN   \n",
       "4569   NaN      NaN   NaN     NaN  NaN            NaN              NaN   \n",
       "4570   NaN      NaN   NaN     NaN  NaN            NaN              NaN   \n",
       "4571   NaN      NaN   NaN     NaN  NaN            NaN              NaN   \n",
       "\n",
       "      Away Team Goals Away Team Name Win conditions  Attendance  \\\n",
       "4567              NaN            NaN            NaN         NaN   \n",
       "4568              NaN            NaN            NaN         NaN   \n",
       "4569              NaN            NaN            NaN         NaN   \n",
       "4570              NaN            NaN            NaN         NaN   \n",
       "4571              NaN            NaN            NaN         NaN   \n",
       "\n",
       "      Half-time Home Goals  Half-time Away Goals Referee Assistant 1  \\\n",
       "4567                   NaN                   NaN     NaN         NaN   \n",
       "4568                   NaN                   NaN     NaN         NaN   \n",
       "4569                   NaN                   NaN     NaN         NaN   \n",
       "4570                   NaN                   NaN     NaN         NaN   \n",
       "4571                   NaN                   NaN     NaN         NaN   \n",
       "\n",
       "     Assistant 2  RoundID  MatchID Home Team Initials Away Team Initials  \n",
       "4567         NaN      NaN      NaN                NaN                NaN  \n",
       "4568         NaN      NaN      NaN                NaN                NaN  \n",
       "4569         NaN      NaN      NaN                NaN                NaN  \n",
       "4570         NaN      NaN      NaN                NaN                NaN  \n",
       "4571         NaN      NaN      NaN                NaN                NaN  "
      ]
     },
     "execution_count": 10,
     "metadata": {},
     "output_type": "execute_result"
    }
   ],
   "source": [
    "wc_matches_df.tail() #There are numerous rows containing undesired values"
   ]
  },
  {
   "cell_type": "code",
   "execution_count": 11,
   "metadata": {},
   "outputs": [
    {
     "name": "stdout",
     "output_type": "stream",
     "text": [
      "<class 'pandas.core.frame.DataFrame'>\n",
      "RangeIndex: 4572 entries, 0 to 4571\n",
      "Data columns (total 20 columns):\n",
      " #   Column                Non-Null Count  Dtype  \n",
      "---  ------                --------------  -----  \n",
      " 0   Year                  852 non-null    float64\n",
      " 1   Datetime              852 non-null    object \n",
      " 2   Stage                 852 non-null    object \n",
      " 3   Stadium               852 non-null    object \n",
      " 4   City                  852 non-null    object \n",
      " 5   Home Team Name        852 non-null    object \n",
      " 6   Home Team Goals       852 non-null    float64\n",
      " 7   Away Team Goals       852 non-null    float64\n",
      " 8   Away Team Name        852 non-null    object \n",
      " 9   Win conditions        852 non-null    object \n",
      " 10  Attendance            850 non-null    float64\n",
      " 11  Half-time Home Goals  852 non-null    float64\n",
      " 12  Half-time Away Goals  852 non-null    float64\n",
      " 13  Referee               852 non-null    object \n",
      " 14  Assistant 1           852 non-null    object \n",
      " 15  Assistant 2           852 non-null    object \n",
      " 16  RoundID               852 non-null    float64\n",
      " 17  MatchID               852 non-null    float64\n",
      " 18  Home Team Initials    852 non-null    object \n",
      " 19  Away Team Initials    852 non-null    object \n",
      "dtypes: float64(8), object(12)\n",
      "memory usage: 714.5+ KB\n"
     ]
    }
   ],
   "source": [
    "wc_matches_df.info()"
   ]
  },
  {
   "cell_type": "code",
   "execution_count": 12,
   "metadata": {},
   "outputs": [
    {
     "name": "stdout",
     "output_type": "stream",
     "text": [
      "<class 'pandas.core.frame.DataFrame'>\n",
      "RangeIndex: 20 entries, 0 to 19\n",
      "Data columns (total 10 columns):\n",
      " #   Column          Non-Null Count  Dtype \n",
      "---  ------          --------------  ----- \n",
      " 0   Year            20 non-null     int64 \n",
      " 1   Country         20 non-null     object\n",
      " 2   Winner          20 non-null     object\n",
      " 3   Runners-Up      20 non-null     object\n",
      " 4   Third           20 non-null     object\n",
      " 5   Fourth          20 non-null     object\n",
      " 6   GoalsScored     20 non-null     int64 \n",
      " 7   QualifiedTeams  20 non-null     int64 \n",
      " 8   MatchesPlayed   20 non-null     int64 \n",
      " 9   Attendance      20 non-null     object\n",
      "dtypes: int64(4), object(6)\n",
      "memory usage: 1.7+ KB\n"
     ]
    }
   ],
   "source": [
    "wc_cup_df.info()"
   ]
  },
  {
   "cell_type": "code",
   "execution_count": 13,
   "metadata": {},
   "outputs": [
    {
     "name": "stdout",
     "output_type": "stream",
     "text": [
      "<class 'pandas.core.frame.DataFrame'>\n",
      "RangeIndex: 37784 entries, 0 to 37783\n",
      "Data columns (total 9 columns):\n",
      " #   Column         Non-Null Count  Dtype \n",
      "---  ------         --------------  ----- \n",
      " 0   RoundID        37784 non-null  int64 \n",
      " 1   MatchID        37784 non-null  int64 \n",
      " 2   Team Initials  37784 non-null  object\n",
      " 3   Coach Name     37784 non-null  object\n",
      " 4   Line-up        37784 non-null  object\n",
      " 5   Shirt Number   37784 non-null  int64 \n",
      " 6   Player Name    37784 non-null  object\n",
      " 7   Position       4143 non-null   object\n",
      " 8   Event          9069 non-null   object\n",
      "dtypes: int64(3), object(6)\n",
      "memory usage: 2.6+ MB\n"
     ]
    }
   ],
   "source": [
    "wc_players_df.info()"
   ]
  },
  {
   "cell_type": "markdown",
   "metadata": {},
   "source": [
    "#### From above information:\n",
    "<br> We shall eliminates the follwing colums from the datasets.\n",
    "<br> WorldCupMatches - Half-time Home Goals, Half-time Away Goals, Referees, Assistant 1&2, Home Team Initials, Away Team Initials\n",
    "<br> WorldCupPlayers- Line-up, Position, Shirt Number, Position, Event \n",
    "\n",
    "We shall also elimate the rows that have Nan values."
   ]
  },
  {
   "cell_type": "code",
   "execution_count": 14,
   "metadata": {},
   "outputs": [],
   "source": [
    "wc_matches_df.drop(wc_matches_df.index[852:], inplace=True) #removed all the nan rows from the main dataframe\n",
    "wc_matches_df.fillna(0, inplace=True)\n",
    "wc_cup_df.fillna(0, inplace=True)\n",
    "wc_players_df.fillna(0, inplace=True)"
   ]
  },
  {
   "cell_type": "code",
   "execution_count": 15,
   "metadata": {},
   "outputs": [
    {
     "data": {
      "text/html": [
       "<div>\n",
       "<style scoped>\n",
       "    .dataframe tbody tr th:only-of-type {\n",
       "        vertical-align: middle;\n",
       "    }\n",
       "\n",
       "    .dataframe tbody tr th {\n",
       "        vertical-align: top;\n",
       "    }\n",
       "\n",
       "    .dataframe thead th {\n",
       "        text-align: right;\n",
       "    }\n",
       "</style>\n",
       "<table border=\"1\" class=\"dataframe\">\n",
       "  <thead>\n",
       "    <tr style=\"text-align: right;\">\n",
       "      <th></th>\n",
       "      <th>Year</th>\n",
       "      <th>Datetime</th>\n",
       "      <th>Stage</th>\n",
       "      <th>Stadium</th>\n",
       "      <th>City</th>\n",
       "      <th>Home Team Name</th>\n",
       "      <th>Home Team Goals</th>\n",
       "      <th>Away Team Goals</th>\n",
       "      <th>Away Team Name</th>\n",
       "      <th>Win conditions</th>\n",
       "      <th>Attendance</th>\n",
       "      <th>Half-time Home Goals</th>\n",
       "      <th>Half-time Away Goals</th>\n",
       "      <th>Referee</th>\n",
       "      <th>Assistant 1</th>\n",
       "      <th>Assistant 2</th>\n",
       "      <th>RoundID</th>\n",
       "      <th>MatchID</th>\n",
       "      <th>Home Team Initials</th>\n",
       "      <th>Away Team Initials</th>\n",
       "    </tr>\n",
       "  </thead>\n",
       "  <tbody>\n",
       "    <tr>\n",
       "      <th>0</th>\n",
       "      <td>1930.0</td>\n",
       "      <td>13 Jul 1930 - 15:00</td>\n",
       "      <td>Group 1</td>\n",
       "      <td>Pocitos</td>\n",
       "      <td>Montevideo</td>\n",
       "      <td>France</td>\n",
       "      <td>4.0</td>\n",
       "      <td>1.0</td>\n",
       "      <td>Mexico</td>\n",
       "      <td></td>\n",
       "      <td>4444.0</td>\n",
       "      <td>3.0</td>\n",
       "      <td>0.0</td>\n",
       "      <td>LOMBARDI Domingo (URU)</td>\n",
       "      <td>CRISTOPHE Henry (BEL)</td>\n",
       "      <td>REGO Gilberto (BRA)</td>\n",
       "      <td>201.0</td>\n",
       "      <td>1096.0</td>\n",
       "      <td>FRA</td>\n",
       "      <td>MEX</td>\n",
       "    </tr>\n",
       "    <tr>\n",
       "      <th>1</th>\n",
       "      <td>1930.0</td>\n",
       "      <td>13 Jul 1930 - 15:00</td>\n",
       "      <td>Group 4</td>\n",
       "      <td>Parque Central</td>\n",
       "      <td>Montevideo</td>\n",
       "      <td>USA</td>\n",
       "      <td>3.0</td>\n",
       "      <td>0.0</td>\n",
       "      <td>Belgium</td>\n",
       "      <td></td>\n",
       "      <td>18346.0</td>\n",
       "      <td>2.0</td>\n",
       "      <td>0.0</td>\n",
       "      <td>MACIAS Jose (ARG)</td>\n",
       "      <td>MATEUCCI Francisco (URU)</td>\n",
       "      <td>WARNKEN Alberto (CHI)</td>\n",
       "      <td>201.0</td>\n",
       "      <td>1090.0</td>\n",
       "      <td>USA</td>\n",
       "      <td>BEL</td>\n",
       "    </tr>\n",
       "    <tr>\n",
       "      <th>2</th>\n",
       "      <td>1930.0</td>\n",
       "      <td>14 Jul 1930 - 12:45</td>\n",
       "      <td>Group 2</td>\n",
       "      <td>Parque Central</td>\n",
       "      <td>Montevideo</td>\n",
       "      <td>Yugoslavia</td>\n",
       "      <td>2.0</td>\n",
       "      <td>1.0</td>\n",
       "      <td>Brazil</td>\n",
       "      <td></td>\n",
       "      <td>24059.0</td>\n",
       "      <td>2.0</td>\n",
       "      <td>0.0</td>\n",
       "      <td>TEJADA Anibal (URU)</td>\n",
       "      <td>VALLARINO Ricardo (URU)</td>\n",
       "      <td>BALWAY Thomas (FRA)</td>\n",
       "      <td>201.0</td>\n",
       "      <td>1093.0</td>\n",
       "      <td>YUG</td>\n",
       "      <td>BRA</td>\n",
       "    </tr>\n",
       "    <tr>\n",
       "      <th>3</th>\n",
       "      <td>1930.0</td>\n",
       "      <td>14 Jul 1930 - 14:50</td>\n",
       "      <td>Group 3</td>\n",
       "      <td>Pocitos</td>\n",
       "      <td>Montevideo</td>\n",
       "      <td>Romania</td>\n",
       "      <td>3.0</td>\n",
       "      <td>1.0</td>\n",
       "      <td>Peru</td>\n",
       "      <td></td>\n",
       "      <td>2549.0</td>\n",
       "      <td>1.0</td>\n",
       "      <td>0.0</td>\n",
       "      <td>WARNKEN Alberto (CHI)</td>\n",
       "      <td>LANGENUS Jean (BEL)</td>\n",
       "      <td>MATEUCCI Francisco (URU)</td>\n",
       "      <td>201.0</td>\n",
       "      <td>1098.0</td>\n",
       "      <td>ROU</td>\n",
       "      <td>PER</td>\n",
       "    </tr>\n",
       "    <tr>\n",
       "      <th>4</th>\n",
       "      <td>1930.0</td>\n",
       "      <td>15 Jul 1930 - 16:00</td>\n",
       "      <td>Group 1</td>\n",
       "      <td>Parque Central</td>\n",
       "      <td>Montevideo</td>\n",
       "      <td>Argentina</td>\n",
       "      <td>1.0</td>\n",
       "      <td>0.0</td>\n",
       "      <td>France</td>\n",
       "      <td></td>\n",
       "      <td>23409.0</td>\n",
       "      <td>0.0</td>\n",
       "      <td>0.0</td>\n",
       "      <td>REGO Gilberto (BRA)</td>\n",
       "      <td>SAUCEDO Ulises (BOL)</td>\n",
       "      <td>RADULESCU Constantin (ROU)</td>\n",
       "      <td>201.0</td>\n",
       "      <td>1085.0</td>\n",
       "      <td>ARG</td>\n",
       "      <td>FRA</td>\n",
       "    </tr>\n",
       "    <tr>\n",
       "      <th>...</th>\n",
       "      <td>...</td>\n",
       "      <td>...</td>\n",
       "      <td>...</td>\n",
       "      <td>...</td>\n",
       "      <td>...</td>\n",
       "      <td>...</td>\n",
       "      <td>...</td>\n",
       "      <td>...</td>\n",
       "      <td>...</td>\n",
       "      <td>...</td>\n",
       "      <td>...</td>\n",
       "      <td>...</td>\n",
       "      <td>...</td>\n",
       "      <td>...</td>\n",
       "      <td>...</td>\n",
       "      <td>...</td>\n",
       "      <td>...</td>\n",
       "      <td>...</td>\n",
       "      <td>...</td>\n",
       "      <td>...</td>\n",
       "    </tr>\n",
       "    <tr>\n",
       "      <th>847</th>\n",
       "      <td>2014.0</td>\n",
       "      <td>05 Jul 2014 - 17:00</td>\n",
       "      <td>Quarter-finals</td>\n",
       "      <td>Arena Fonte Nova</td>\n",
       "      <td>Salvador</td>\n",
       "      <td>Netherlands</td>\n",
       "      <td>0.0</td>\n",
       "      <td>0.0</td>\n",
       "      <td>Costa Rica</td>\n",
       "      <td>Netherlands win on penalties (4 - 3)</td>\n",
       "      <td>51179.0</td>\n",
       "      <td>0.0</td>\n",
       "      <td>0.0</td>\n",
       "      <td>Ravshan IRMATOV (UZB)</td>\n",
       "      <td>RASULOV Abduxamidullo (UZB)</td>\n",
       "      <td>KOCHKAROV Bakhadyr (KGZ)</td>\n",
       "      <td>255953.0</td>\n",
       "      <td>300186488.0</td>\n",
       "      <td>NED</td>\n",
       "      <td>CRC</td>\n",
       "    </tr>\n",
       "    <tr>\n",
       "      <th>848</th>\n",
       "      <td>2014.0</td>\n",
       "      <td>08 Jul 2014 - 17:00</td>\n",
       "      <td>Semi-finals</td>\n",
       "      <td>Estadio Mineirao</td>\n",
       "      <td>Belo Horizonte</td>\n",
       "      <td>Brazil</td>\n",
       "      <td>1.0</td>\n",
       "      <td>7.0</td>\n",
       "      <td>Germany</td>\n",
       "      <td></td>\n",
       "      <td>58141.0</td>\n",
       "      <td>0.0</td>\n",
       "      <td>5.0</td>\n",
       "      <td>RODRIGUEZ Marco (MEX)</td>\n",
       "      <td>TORRENTERA Marvin (MEX)</td>\n",
       "      <td>QUINTERO Marcos (MEX)</td>\n",
       "      <td>255955.0</td>\n",
       "      <td>300186474.0</td>\n",
       "      <td>BRA</td>\n",
       "      <td>GER</td>\n",
       "    </tr>\n",
       "    <tr>\n",
       "      <th>849</th>\n",
       "      <td>2014.0</td>\n",
       "      <td>09 Jul 2014 - 17:00</td>\n",
       "      <td>Semi-finals</td>\n",
       "      <td>Arena de Sao Paulo</td>\n",
       "      <td>Sao Paulo</td>\n",
       "      <td>Netherlands</td>\n",
       "      <td>0.0</td>\n",
       "      <td>0.0</td>\n",
       "      <td>Argentina</td>\n",
       "      <td>Argentina win on penalties (2 - 4)</td>\n",
       "      <td>63267.0</td>\n",
       "      <td>0.0</td>\n",
       "      <td>0.0</td>\n",
       "      <td>C�neyt �AKIR (TUR)</td>\n",
       "      <td>DURAN Bahattin (TUR)</td>\n",
       "      <td>ONGUN Tarik (TUR)</td>\n",
       "      <td>255955.0</td>\n",
       "      <td>300186490.0</td>\n",
       "      <td>NED</td>\n",
       "      <td>ARG</td>\n",
       "    </tr>\n",
       "    <tr>\n",
       "      <th>850</th>\n",
       "      <td>2014.0</td>\n",
       "      <td>12 Jul 2014 - 17:00</td>\n",
       "      <td>Play-off for third place</td>\n",
       "      <td>Estadio Nacional</td>\n",
       "      <td>Brasilia</td>\n",
       "      <td>Brazil</td>\n",
       "      <td>0.0</td>\n",
       "      <td>3.0</td>\n",
       "      <td>Netherlands</td>\n",
       "      <td></td>\n",
       "      <td>68034.0</td>\n",
       "      <td>0.0</td>\n",
       "      <td>2.0</td>\n",
       "      <td>HAIMOUDI Djamel (ALG)</td>\n",
       "      <td>ACHIK Redouane (MAR)</td>\n",
       "      <td>ETCHIALI Abdelhak (ALG)</td>\n",
       "      <td>255957.0</td>\n",
       "      <td>300186502.0</td>\n",
       "      <td>BRA</td>\n",
       "      <td>NED</td>\n",
       "    </tr>\n",
       "    <tr>\n",
       "      <th>851</th>\n",
       "      <td>2014.0</td>\n",
       "      <td>13 Jul 2014 - 16:00</td>\n",
       "      <td>Final</td>\n",
       "      <td>Estadio do Maracana</td>\n",
       "      <td>Rio De Janeiro</td>\n",
       "      <td>Germany</td>\n",
       "      <td>1.0</td>\n",
       "      <td>0.0</td>\n",
       "      <td>Argentina</td>\n",
       "      <td>Germany win after extra time</td>\n",
       "      <td>74738.0</td>\n",
       "      <td>0.0</td>\n",
       "      <td>0.0</td>\n",
       "      <td>Nicola RIZZOLI (ITA)</td>\n",
       "      <td>Renato FAVERANI (ITA)</td>\n",
       "      <td>Andrea STEFANI (ITA)</td>\n",
       "      <td>255959.0</td>\n",
       "      <td>300186501.0</td>\n",
       "      <td>GER</td>\n",
       "      <td>ARG</td>\n",
       "    </tr>\n",
       "  </tbody>\n",
       "</table>\n",
       "<p>852 rows × 20 columns</p>\n",
       "</div>"
      ],
      "text/plain": [
       "       Year              Datetime                     Stage  \\\n",
       "0    1930.0  13 Jul 1930 - 15:00                    Group 1   \n",
       "1    1930.0  13 Jul 1930 - 15:00                    Group 4   \n",
       "2    1930.0  14 Jul 1930 - 12:45                    Group 2   \n",
       "3    1930.0  14 Jul 1930 - 14:50                    Group 3   \n",
       "4    1930.0  15 Jul 1930 - 16:00                    Group 1   \n",
       "..      ...                   ...                       ...   \n",
       "847  2014.0  05 Jul 2014 - 17:00             Quarter-finals   \n",
       "848  2014.0  08 Jul 2014 - 17:00                Semi-finals   \n",
       "849  2014.0  09 Jul 2014 - 17:00                Semi-finals   \n",
       "850  2014.0  12 Jul 2014 - 17:00   Play-off for third place   \n",
       "851  2014.0  13 Jul 2014 - 16:00                      Final   \n",
       "\n",
       "                 Stadium             City Home Team Name  Home Team Goals  \\\n",
       "0                Pocitos      Montevideo          France              4.0   \n",
       "1         Parque Central      Montevideo             USA              3.0   \n",
       "2         Parque Central      Montevideo      Yugoslavia              2.0   \n",
       "3                Pocitos      Montevideo         Romania              3.0   \n",
       "4         Parque Central      Montevideo       Argentina              1.0   \n",
       "..                   ...              ...            ...              ...   \n",
       "847     Arena Fonte Nova        Salvador     Netherlands              0.0   \n",
       "848     Estadio Mineirao  Belo Horizonte          Brazil              1.0   \n",
       "849   Arena de Sao Paulo       Sao Paulo     Netherlands              0.0   \n",
       "850     Estadio Nacional        Brasilia          Brazil              0.0   \n",
       "851  Estadio do Maracana  Rio De Janeiro         Germany              1.0   \n",
       "\n",
       "     Away Team Goals Away Team Name                         Win conditions  \\\n",
       "0                1.0         Mexico                                          \n",
       "1                0.0        Belgium                                          \n",
       "2                1.0         Brazil                                          \n",
       "3                1.0           Peru                                          \n",
       "4                0.0         France                                          \n",
       "..               ...            ...                                    ...   \n",
       "847              0.0     Costa Rica  Netherlands win on penalties (4 - 3)    \n",
       "848              7.0        Germany                                          \n",
       "849              0.0      Argentina    Argentina win on penalties (2 - 4)    \n",
       "850              3.0    Netherlands                                          \n",
       "851              0.0      Argentina          Germany win after extra time    \n",
       "\n",
       "     Attendance  Half-time Home Goals  Half-time Away Goals  \\\n",
       "0        4444.0                   3.0                   0.0   \n",
       "1       18346.0                   2.0                   0.0   \n",
       "2       24059.0                   2.0                   0.0   \n",
       "3        2549.0                   1.0                   0.0   \n",
       "4       23409.0                   0.0                   0.0   \n",
       "..          ...                   ...                   ...   \n",
       "847     51179.0                   0.0                   0.0   \n",
       "848     58141.0                   0.0                   5.0   \n",
       "849     63267.0                   0.0                   0.0   \n",
       "850     68034.0                   0.0                   2.0   \n",
       "851     74738.0                   0.0                   0.0   \n",
       "\n",
       "                    Referee                  Assistant 1  \\\n",
       "0    LOMBARDI Domingo (URU)        CRISTOPHE Henry (BEL)   \n",
       "1         MACIAS Jose (ARG)     MATEUCCI Francisco (URU)   \n",
       "2       TEJADA Anibal (URU)      VALLARINO Ricardo (URU)   \n",
       "3     WARNKEN Alberto (CHI)          LANGENUS Jean (BEL)   \n",
       "4       REGO Gilberto (BRA)         SAUCEDO Ulises (BOL)   \n",
       "..                      ...                          ...   \n",
       "847   Ravshan IRMATOV (UZB)  RASULOV Abduxamidullo (UZB)   \n",
       "848   RODRIGUEZ Marco (MEX)      TORRENTERA Marvin (MEX)   \n",
       "849      C�neyt �AKIR (TUR)         DURAN Bahattin (TUR)   \n",
       "850   HAIMOUDI Djamel (ALG)         ACHIK Redouane (MAR)   \n",
       "851    Nicola RIZZOLI (ITA)        Renato FAVERANI (ITA)   \n",
       "\n",
       "                    Assistant 2   RoundID      MatchID Home Team Initials  \\\n",
       "0           REGO Gilberto (BRA)     201.0       1096.0                FRA   \n",
       "1         WARNKEN Alberto (CHI)     201.0       1090.0                USA   \n",
       "2           BALWAY Thomas (FRA)     201.0       1093.0                YUG   \n",
       "3      MATEUCCI Francisco (URU)     201.0       1098.0                ROU   \n",
       "4    RADULESCU Constantin (ROU)     201.0       1085.0                ARG   \n",
       "..                          ...       ...          ...                ...   \n",
       "847    KOCHKAROV Bakhadyr (KGZ)  255953.0  300186488.0                NED   \n",
       "848       QUINTERO Marcos (MEX)  255955.0  300186474.0                BRA   \n",
       "849           ONGUN Tarik (TUR)  255955.0  300186490.0                NED   \n",
       "850     ETCHIALI Abdelhak (ALG)  255957.0  300186502.0                BRA   \n",
       "851        Andrea STEFANI (ITA)  255959.0  300186501.0                GER   \n",
       "\n",
       "    Away Team Initials  \n",
       "0                  MEX  \n",
       "1                  BEL  \n",
       "2                  BRA  \n",
       "3                  PER  \n",
       "4                  FRA  \n",
       "..                 ...  \n",
       "847                CRC  \n",
       "848                GER  \n",
       "849                ARG  \n",
       "850                NED  \n",
       "851                ARG  \n",
       "\n",
       "[852 rows x 20 columns]"
      ]
     },
     "execution_count": 15,
     "metadata": {},
     "output_type": "execute_result"
    }
   ],
   "source": [
    "wc_matches_df"
   ]
  },
  {
   "cell_type": "code",
   "execution_count": 16,
   "metadata": {},
   "outputs": [],
   "source": [
    "wc_matches_df.drop(columns=['Win conditions', 'Half-time Home Goals','Half-time Away Goals','Referee','Assistant 1','Assistant 2','Home Team Initials','Away Team Initials'], inplace=True)"
   ]
  },
  {
   "cell_type": "code",
   "execution_count": 17,
   "metadata": {},
   "outputs": [
    {
     "data": {
      "text/html": [
       "<div>\n",
       "<style scoped>\n",
       "    .dataframe tbody tr th:only-of-type {\n",
       "        vertical-align: middle;\n",
       "    }\n",
       "\n",
       "    .dataframe tbody tr th {\n",
       "        vertical-align: top;\n",
       "    }\n",
       "\n",
       "    .dataframe thead th {\n",
       "        text-align: right;\n",
       "    }\n",
       "</style>\n",
       "<table border=\"1\" class=\"dataframe\">\n",
       "  <thead>\n",
       "    <tr style=\"text-align: right;\">\n",
       "      <th></th>\n",
       "      <th>Year</th>\n",
       "      <th>Datetime</th>\n",
       "      <th>Stage</th>\n",
       "      <th>Stadium</th>\n",
       "      <th>City</th>\n",
       "      <th>Home Team Name</th>\n",
       "      <th>Home Team Goals</th>\n",
       "      <th>Away Team Goals</th>\n",
       "      <th>Away Team Name</th>\n",
       "      <th>Attendance</th>\n",
       "      <th>RoundID</th>\n",
       "      <th>MatchID</th>\n",
       "    </tr>\n",
       "  </thead>\n",
       "  <tbody>\n",
       "    <tr>\n",
       "      <th>0</th>\n",
       "      <td>1930.0</td>\n",
       "      <td>13 Jul 1930 - 15:00</td>\n",
       "      <td>Group 1</td>\n",
       "      <td>Pocitos</td>\n",
       "      <td>Montevideo</td>\n",
       "      <td>France</td>\n",
       "      <td>4.0</td>\n",
       "      <td>1.0</td>\n",
       "      <td>Mexico</td>\n",
       "      <td>4444.0</td>\n",
       "      <td>201.0</td>\n",
       "      <td>1096.0</td>\n",
       "    </tr>\n",
       "    <tr>\n",
       "      <th>1</th>\n",
       "      <td>1930.0</td>\n",
       "      <td>13 Jul 1930 - 15:00</td>\n",
       "      <td>Group 4</td>\n",
       "      <td>Parque Central</td>\n",
       "      <td>Montevideo</td>\n",
       "      <td>USA</td>\n",
       "      <td>3.0</td>\n",
       "      <td>0.0</td>\n",
       "      <td>Belgium</td>\n",
       "      <td>18346.0</td>\n",
       "      <td>201.0</td>\n",
       "      <td>1090.0</td>\n",
       "    </tr>\n",
       "    <tr>\n",
       "      <th>2</th>\n",
       "      <td>1930.0</td>\n",
       "      <td>14 Jul 1930 - 12:45</td>\n",
       "      <td>Group 2</td>\n",
       "      <td>Parque Central</td>\n",
       "      <td>Montevideo</td>\n",
       "      <td>Yugoslavia</td>\n",
       "      <td>2.0</td>\n",
       "      <td>1.0</td>\n",
       "      <td>Brazil</td>\n",
       "      <td>24059.0</td>\n",
       "      <td>201.0</td>\n",
       "      <td>1093.0</td>\n",
       "    </tr>\n",
       "    <tr>\n",
       "      <th>3</th>\n",
       "      <td>1930.0</td>\n",
       "      <td>14 Jul 1930 - 14:50</td>\n",
       "      <td>Group 3</td>\n",
       "      <td>Pocitos</td>\n",
       "      <td>Montevideo</td>\n",
       "      <td>Romania</td>\n",
       "      <td>3.0</td>\n",
       "      <td>1.0</td>\n",
       "      <td>Peru</td>\n",
       "      <td>2549.0</td>\n",
       "      <td>201.0</td>\n",
       "      <td>1098.0</td>\n",
       "    </tr>\n",
       "    <tr>\n",
       "      <th>4</th>\n",
       "      <td>1930.0</td>\n",
       "      <td>15 Jul 1930 - 16:00</td>\n",
       "      <td>Group 1</td>\n",
       "      <td>Parque Central</td>\n",
       "      <td>Montevideo</td>\n",
       "      <td>Argentina</td>\n",
       "      <td>1.0</td>\n",
       "      <td>0.0</td>\n",
       "      <td>France</td>\n",
       "      <td>23409.0</td>\n",
       "      <td>201.0</td>\n",
       "      <td>1085.0</td>\n",
       "    </tr>\n",
       "    <tr>\n",
       "      <th>...</th>\n",
       "      <td>...</td>\n",
       "      <td>...</td>\n",
       "      <td>...</td>\n",
       "      <td>...</td>\n",
       "      <td>...</td>\n",
       "      <td>...</td>\n",
       "      <td>...</td>\n",
       "      <td>...</td>\n",
       "      <td>...</td>\n",
       "      <td>...</td>\n",
       "      <td>...</td>\n",
       "      <td>...</td>\n",
       "    </tr>\n",
       "    <tr>\n",
       "      <th>847</th>\n",
       "      <td>2014.0</td>\n",
       "      <td>05 Jul 2014 - 17:00</td>\n",
       "      <td>Quarter-finals</td>\n",
       "      <td>Arena Fonte Nova</td>\n",
       "      <td>Salvador</td>\n",
       "      <td>Netherlands</td>\n",
       "      <td>0.0</td>\n",
       "      <td>0.0</td>\n",
       "      <td>Costa Rica</td>\n",
       "      <td>51179.0</td>\n",
       "      <td>255953.0</td>\n",
       "      <td>300186488.0</td>\n",
       "    </tr>\n",
       "    <tr>\n",
       "      <th>848</th>\n",
       "      <td>2014.0</td>\n",
       "      <td>08 Jul 2014 - 17:00</td>\n",
       "      <td>Semi-finals</td>\n",
       "      <td>Estadio Mineirao</td>\n",
       "      <td>Belo Horizonte</td>\n",
       "      <td>Brazil</td>\n",
       "      <td>1.0</td>\n",
       "      <td>7.0</td>\n",
       "      <td>Germany</td>\n",
       "      <td>58141.0</td>\n",
       "      <td>255955.0</td>\n",
       "      <td>300186474.0</td>\n",
       "    </tr>\n",
       "    <tr>\n",
       "      <th>849</th>\n",
       "      <td>2014.0</td>\n",
       "      <td>09 Jul 2014 - 17:00</td>\n",
       "      <td>Semi-finals</td>\n",
       "      <td>Arena de Sao Paulo</td>\n",
       "      <td>Sao Paulo</td>\n",
       "      <td>Netherlands</td>\n",
       "      <td>0.0</td>\n",
       "      <td>0.0</td>\n",
       "      <td>Argentina</td>\n",
       "      <td>63267.0</td>\n",
       "      <td>255955.0</td>\n",
       "      <td>300186490.0</td>\n",
       "    </tr>\n",
       "    <tr>\n",
       "      <th>850</th>\n",
       "      <td>2014.0</td>\n",
       "      <td>12 Jul 2014 - 17:00</td>\n",
       "      <td>Play-off for third place</td>\n",
       "      <td>Estadio Nacional</td>\n",
       "      <td>Brasilia</td>\n",
       "      <td>Brazil</td>\n",
       "      <td>0.0</td>\n",
       "      <td>3.0</td>\n",
       "      <td>Netherlands</td>\n",
       "      <td>68034.0</td>\n",
       "      <td>255957.0</td>\n",
       "      <td>300186502.0</td>\n",
       "    </tr>\n",
       "    <tr>\n",
       "      <th>851</th>\n",
       "      <td>2014.0</td>\n",
       "      <td>13 Jul 2014 - 16:00</td>\n",
       "      <td>Final</td>\n",
       "      <td>Estadio do Maracana</td>\n",
       "      <td>Rio De Janeiro</td>\n",
       "      <td>Germany</td>\n",
       "      <td>1.0</td>\n",
       "      <td>0.0</td>\n",
       "      <td>Argentina</td>\n",
       "      <td>74738.0</td>\n",
       "      <td>255959.0</td>\n",
       "      <td>300186501.0</td>\n",
       "    </tr>\n",
       "  </tbody>\n",
       "</table>\n",
       "<p>852 rows × 12 columns</p>\n",
       "</div>"
      ],
      "text/plain": [
       "       Year              Datetime                     Stage  \\\n",
       "0    1930.0  13 Jul 1930 - 15:00                    Group 1   \n",
       "1    1930.0  13 Jul 1930 - 15:00                    Group 4   \n",
       "2    1930.0  14 Jul 1930 - 12:45                    Group 2   \n",
       "3    1930.0  14 Jul 1930 - 14:50                    Group 3   \n",
       "4    1930.0  15 Jul 1930 - 16:00                    Group 1   \n",
       "..      ...                   ...                       ...   \n",
       "847  2014.0  05 Jul 2014 - 17:00             Quarter-finals   \n",
       "848  2014.0  08 Jul 2014 - 17:00                Semi-finals   \n",
       "849  2014.0  09 Jul 2014 - 17:00                Semi-finals   \n",
       "850  2014.0  12 Jul 2014 - 17:00   Play-off for third place   \n",
       "851  2014.0  13 Jul 2014 - 16:00                      Final   \n",
       "\n",
       "                 Stadium             City Home Team Name  Home Team Goals  \\\n",
       "0                Pocitos      Montevideo          France              4.0   \n",
       "1         Parque Central      Montevideo             USA              3.0   \n",
       "2         Parque Central      Montevideo      Yugoslavia              2.0   \n",
       "3                Pocitos      Montevideo         Romania              3.0   \n",
       "4         Parque Central      Montevideo       Argentina              1.0   \n",
       "..                   ...              ...            ...              ...   \n",
       "847     Arena Fonte Nova        Salvador     Netherlands              0.0   \n",
       "848     Estadio Mineirao  Belo Horizonte          Brazil              1.0   \n",
       "849   Arena de Sao Paulo       Sao Paulo     Netherlands              0.0   \n",
       "850     Estadio Nacional        Brasilia          Brazil              0.0   \n",
       "851  Estadio do Maracana  Rio De Janeiro         Germany              1.0   \n",
       "\n",
       "     Away Team Goals Away Team Name  Attendance   RoundID      MatchID  \n",
       "0                1.0         Mexico      4444.0     201.0       1096.0  \n",
       "1                0.0        Belgium     18346.0     201.0       1090.0  \n",
       "2                1.0         Brazil     24059.0     201.0       1093.0  \n",
       "3                1.0           Peru      2549.0     201.0       1098.0  \n",
       "4                0.0         France     23409.0     201.0       1085.0  \n",
       "..               ...            ...         ...       ...          ...  \n",
       "847              0.0     Costa Rica     51179.0  255953.0  300186488.0  \n",
       "848              7.0        Germany     58141.0  255955.0  300186474.0  \n",
       "849              0.0      Argentina     63267.0  255955.0  300186490.0  \n",
       "850              3.0    Netherlands     68034.0  255957.0  300186502.0  \n",
       "851              0.0      Argentina     74738.0  255959.0  300186501.0  \n",
       "\n",
       "[852 rows x 12 columns]"
      ]
     },
     "execution_count": 17,
     "metadata": {},
     "output_type": "execute_result"
    }
   ],
   "source": [
    "wc_matches_df"
   ]
  },
  {
   "cell_type": "code",
   "execution_count": 18,
   "metadata": {},
   "outputs": [],
   "source": [
    "wc_cup_df.drop(columns=['Attendance'], inplace=True)"
   ]
  },
  {
   "cell_type": "code",
   "execution_count": 19,
   "metadata": {},
   "outputs": [
    {
     "data": {
      "text/html": [
       "<div>\n",
       "<style scoped>\n",
       "    .dataframe tbody tr th:only-of-type {\n",
       "        vertical-align: middle;\n",
       "    }\n",
       "\n",
       "    .dataframe tbody tr th {\n",
       "        vertical-align: top;\n",
       "    }\n",
       "\n",
       "    .dataframe thead th {\n",
       "        text-align: right;\n",
       "    }\n",
       "</style>\n",
       "<table border=\"1\" class=\"dataframe\">\n",
       "  <thead>\n",
       "    <tr style=\"text-align: right;\">\n",
       "      <th></th>\n",
       "      <th>Year</th>\n",
       "      <th>Country</th>\n",
       "      <th>Winner</th>\n",
       "      <th>Runners-Up</th>\n",
       "      <th>Third</th>\n",
       "      <th>Fourth</th>\n",
       "      <th>GoalsScored</th>\n",
       "      <th>QualifiedTeams</th>\n",
       "      <th>MatchesPlayed</th>\n",
       "    </tr>\n",
       "  </thead>\n",
       "  <tbody>\n",
       "    <tr>\n",
       "      <th>0</th>\n",
       "      <td>1930</td>\n",
       "      <td>Uruguay</td>\n",
       "      <td>Uruguay</td>\n",
       "      <td>Argentina</td>\n",
       "      <td>USA</td>\n",
       "      <td>Yugoslavia</td>\n",
       "      <td>70</td>\n",
       "      <td>13</td>\n",
       "      <td>18</td>\n",
       "    </tr>\n",
       "    <tr>\n",
       "      <th>1</th>\n",
       "      <td>1934</td>\n",
       "      <td>Italy</td>\n",
       "      <td>Italy</td>\n",
       "      <td>Czechoslovakia</td>\n",
       "      <td>Germany</td>\n",
       "      <td>Austria</td>\n",
       "      <td>70</td>\n",
       "      <td>16</td>\n",
       "      <td>17</td>\n",
       "    </tr>\n",
       "    <tr>\n",
       "      <th>2</th>\n",
       "      <td>1938</td>\n",
       "      <td>France</td>\n",
       "      <td>Italy</td>\n",
       "      <td>Hungary</td>\n",
       "      <td>Brazil</td>\n",
       "      <td>Sweden</td>\n",
       "      <td>84</td>\n",
       "      <td>15</td>\n",
       "      <td>18</td>\n",
       "    </tr>\n",
       "    <tr>\n",
       "      <th>3</th>\n",
       "      <td>1950</td>\n",
       "      <td>Brazil</td>\n",
       "      <td>Uruguay</td>\n",
       "      <td>Brazil</td>\n",
       "      <td>Sweden</td>\n",
       "      <td>Spain</td>\n",
       "      <td>88</td>\n",
       "      <td>13</td>\n",
       "      <td>22</td>\n",
       "    </tr>\n",
       "    <tr>\n",
       "      <th>4</th>\n",
       "      <td>1954</td>\n",
       "      <td>Switzerland</td>\n",
       "      <td>Germany FR</td>\n",
       "      <td>Hungary</td>\n",
       "      <td>Austria</td>\n",
       "      <td>Uruguay</td>\n",
       "      <td>140</td>\n",
       "      <td>16</td>\n",
       "      <td>26</td>\n",
       "    </tr>\n",
       "    <tr>\n",
       "      <th>5</th>\n",
       "      <td>1958</td>\n",
       "      <td>Sweden</td>\n",
       "      <td>Brazil</td>\n",
       "      <td>Sweden</td>\n",
       "      <td>France</td>\n",
       "      <td>Germany FR</td>\n",
       "      <td>126</td>\n",
       "      <td>16</td>\n",
       "      <td>35</td>\n",
       "    </tr>\n",
       "    <tr>\n",
       "      <th>6</th>\n",
       "      <td>1962</td>\n",
       "      <td>Chile</td>\n",
       "      <td>Brazil</td>\n",
       "      <td>Czechoslovakia</td>\n",
       "      <td>Chile</td>\n",
       "      <td>Yugoslavia</td>\n",
       "      <td>89</td>\n",
       "      <td>16</td>\n",
       "      <td>32</td>\n",
       "    </tr>\n",
       "    <tr>\n",
       "      <th>7</th>\n",
       "      <td>1966</td>\n",
       "      <td>England</td>\n",
       "      <td>England</td>\n",
       "      <td>Germany FR</td>\n",
       "      <td>Portugal</td>\n",
       "      <td>Soviet Union</td>\n",
       "      <td>89</td>\n",
       "      <td>16</td>\n",
       "      <td>32</td>\n",
       "    </tr>\n",
       "    <tr>\n",
       "      <th>8</th>\n",
       "      <td>1970</td>\n",
       "      <td>Mexico</td>\n",
       "      <td>Brazil</td>\n",
       "      <td>Italy</td>\n",
       "      <td>Germany FR</td>\n",
       "      <td>Uruguay</td>\n",
       "      <td>95</td>\n",
       "      <td>16</td>\n",
       "      <td>32</td>\n",
       "    </tr>\n",
       "    <tr>\n",
       "      <th>9</th>\n",
       "      <td>1974</td>\n",
       "      <td>Germany</td>\n",
       "      <td>Germany FR</td>\n",
       "      <td>Netherlands</td>\n",
       "      <td>Poland</td>\n",
       "      <td>Brazil</td>\n",
       "      <td>97</td>\n",
       "      <td>16</td>\n",
       "      <td>38</td>\n",
       "    </tr>\n",
       "    <tr>\n",
       "      <th>10</th>\n",
       "      <td>1978</td>\n",
       "      <td>Argentina</td>\n",
       "      <td>Argentina</td>\n",
       "      <td>Netherlands</td>\n",
       "      <td>Brazil</td>\n",
       "      <td>Italy</td>\n",
       "      <td>102</td>\n",
       "      <td>16</td>\n",
       "      <td>38</td>\n",
       "    </tr>\n",
       "    <tr>\n",
       "      <th>11</th>\n",
       "      <td>1982</td>\n",
       "      <td>Spain</td>\n",
       "      <td>Italy</td>\n",
       "      <td>Germany FR</td>\n",
       "      <td>Poland</td>\n",
       "      <td>France</td>\n",
       "      <td>146</td>\n",
       "      <td>24</td>\n",
       "      <td>52</td>\n",
       "    </tr>\n",
       "    <tr>\n",
       "      <th>12</th>\n",
       "      <td>1986</td>\n",
       "      <td>Mexico</td>\n",
       "      <td>Argentina</td>\n",
       "      <td>Germany FR</td>\n",
       "      <td>France</td>\n",
       "      <td>Belgium</td>\n",
       "      <td>132</td>\n",
       "      <td>24</td>\n",
       "      <td>52</td>\n",
       "    </tr>\n",
       "    <tr>\n",
       "      <th>13</th>\n",
       "      <td>1990</td>\n",
       "      <td>Italy</td>\n",
       "      <td>Germany FR</td>\n",
       "      <td>Argentina</td>\n",
       "      <td>Italy</td>\n",
       "      <td>England</td>\n",
       "      <td>115</td>\n",
       "      <td>24</td>\n",
       "      <td>52</td>\n",
       "    </tr>\n",
       "    <tr>\n",
       "      <th>14</th>\n",
       "      <td>1994</td>\n",
       "      <td>USA</td>\n",
       "      <td>Brazil</td>\n",
       "      <td>Italy</td>\n",
       "      <td>Sweden</td>\n",
       "      <td>Bulgaria</td>\n",
       "      <td>141</td>\n",
       "      <td>24</td>\n",
       "      <td>52</td>\n",
       "    </tr>\n",
       "    <tr>\n",
       "      <th>15</th>\n",
       "      <td>1998</td>\n",
       "      <td>France</td>\n",
       "      <td>France</td>\n",
       "      <td>Brazil</td>\n",
       "      <td>Croatia</td>\n",
       "      <td>Netherlands</td>\n",
       "      <td>171</td>\n",
       "      <td>32</td>\n",
       "      <td>64</td>\n",
       "    </tr>\n",
       "    <tr>\n",
       "      <th>16</th>\n",
       "      <td>2002</td>\n",
       "      <td>Korea/Japan</td>\n",
       "      <td>Brazil</td>\n",
       "      <td>Germany</td>\n",
       "      <td>Turkey</td>\n",
       "      <td>Korea Republic</td>\n",
       "      <td>161</td>\n",
       "      <td>32</td>\n",
       "      <td>64</td>\n",
       "    </tr>\n",
       "    <tr>\n",
       "      <th>17</th>\n",
       "      <td>2006</td>\n",
       "      <td>Germany</td>\n",
       "      <td>Italy</td>\n",
       "      <td>France</td>\n",
       "      <td>Germany</td>\n",
       "      <td>Portugal</td>\n",
       "      <td>147</td>\n",
       "      <td>32</td>\n",
       "      <td>64</td>\n",
       "    </tr>\n",
       "    <tr>\n",
       "      <th>18</th>\n",
       "      <td>2010</td>\n",
       "      <td>South Africa</td>\n",
       "      <td>Spain</td>\n",
       "      <td>Netherlands</td>\n",
       "      <td>Germany</td>\n",
       "      <td>Uruguay</td>\n",
       "      <td>145</td>\n",
       "      <td>32</td>\n",
       "      <td>64</td>\n",
       "    </tr>\n",
       "    <tr>\n",
       "      <th>19</th>\n",
       "      <td>2014</td>\n",
       "      <td>Brazil</td>\n",
       "      <td>Germany</td>\n",
       "      <td>Argentina</td>\n",
       "      <td>Netherlands</td>\n",
       "      <td>Brazil</td>\n",
       "      <td>171</td>\n",
       "      <td>32</td>\n",
       "      <td>64</td>\n",
       "    </tr>\n",
       "  </tbody>\n",
       "</table>\n",
       "</div>"
      ],
      "text/plain": [
       "    Year       Country      Winner      Runners-Up        Third  \\\n",
       "0   1930       Uruguay     Uruguay       Argentina          USA   \n",
       "1   1934         Italy       Italy  Czechoslovakia      Germany   \n",
       "2   1938        France       Italy         Hungary       Brazil   \n",
       "3   1950        Brazil     Uruguay          Brazil       Sweden   \n",
       "4   1954   Switzerland  Germany FR         Hungary      Austria   \n",
       "5   1958        Sweden      Brazil          Sweden       France   \n",
       "6   1962         Chile      Brazil  Czechoslovakia        Chile   \n",
       "7   1966       England     England      Germany FR     Portugal   \n",
       "8   1970        Mexico      Brazil           Italy   Germany FR   \n",
       "9   1974       Germany  Germany FR     Netherlands       Poland   \n",
       "10  1978     Argentina   Argentina     Netherlands       Brazil   \n",
       "11  1982         Spain       Italy      Germany FR       Poland   \n",
       "12  1986        Mexico   Argentina      Germany FR       France   \n",
       "13  1990         Italy  Germany FR       Argentina        Italy   \n",
       "14  1994           USA      Brazil           Italy       Sweden   \n",
       "15  1998        France      France          Brazil      Croatia   \n",
       "16  2002   Korea/Japan      Brazil         Germany       Turkey   \n",
       "17  2006       Germany       Italy          France      Germany   \n",
       "18  2010  South Africa       Spain     Netherlands      Germany   \n",
       "19  2014        Brazil     Germany       Argentina  Netherlands   \n",
       "\n",
       "            Fourth  GoalsScored  QualifiedTeams  MatchesPlayed  \n",
       "0       Yugoslavia           70              13             18  \n",
       "1          Austria           70              16             17  \n",
       "2           Sweden           84              15             18  \n",
       "3            Spain           88              13             22  \n",
       "4          Uruguay          140              16             26  \n",
       "5       Germany FR          126              16             35  \n",
       "6       Yugoslavia           89              16             32  \n",
       "7     Soviet Union           89              16             32  \n",
       "8          Uruguay           95              16             32  \n",
       "9           Brazil           97              16             38  \n",
       "10           Italy          102              16             38  \n",
       "11          France          146              24             52  \n",
       "12         Belgium          132              24             52  \n",
       "13         England          115              24             52  \n",
       "14        Bulgaria          141              24             52  \n",
       "15     Netherlands          171              32             64  \n",
       "16  Korea Republic          161              32             64  \n",
       "17        Portugal          147              32             64  \n",
       "18         Uruguay          145              32             64  \n",
       "19          Brazil          171              32             64  "
      ]
     },
     "execution_count": 19,
     "metadata": {},
     "output_type": "execute_result"
    }
   ],
   "source": [
    "wc_cup_df"
   ]
  },
  {
   "cell_type": "code",
   "execution_count": 20,
   "metadata": {},
   "outputs": [],
   "source": [
    "wc_players_df.drop(columns=['Line-up', 'Shirt Number','Position','Event'], inplace=True)"
   ]
  },
  {
   "cell_type": "code",
   "execution_count": 21,
   "metadata": {},
   "outputs": [
    {
     "data": {
      "text/html": [
       "<div>\n",
       "<style scoped>\n",
       "    .dataframe tbody tr th:only-of-type {\n",
       "        vertical-align: middle;\n",
       "    }\n",
       "\n",
       "    .dataframe tbody tr th {\n",
       "        vertical-align: top;\n",
       "    }\n",
       "\n",
       "    .dataframe thead th {\n",
       "        text-align: right;\n",
       "    }\n",
       "</style>\n",
       "<table border=\"1\" class=\"dataframe\">\n",
       "  <thead>\n",
       "    <tr style=\"text-align: right;\">\n",
       "      <th></th>\n",
       "      <th>RoundID</th>\n",
       "      <th>MatchID</th>\n",
       "      <th>Team Initials</th>\n",
       "      <th>Coach Name</th>\n",
       "      <th>Player Name</th>\n",
       "    </tr>\n",
       "  </thead>\n",
       "  <tbody>\n",
       "    <tr>\n",
       "      <th>0</th>\n",
       "      <td>201</td>\n",
       "      <td>1096</td>\n",
       "      <td>FRA</td>\n",
       "      <td>CAUDRON Raoul (FRA)</td>\n",
       "      <td>Alex THEPOT</td>\n",
       "    </tr>\n",
       "    <tr>\n",
       "      <th>1</th>\n",
       "      <td>201</td>\n",
       "      <td>1096</td>\n",
       "      <td>MEX</td>\n",
       "      <td>LUQUE Juan (MEX)</td>\n",
       "      <td>Oscar BONFIGLIO</td>\n",
       "    </tr>\n",
       "    <tr>\n",
       "      <th>2</th>\n",
       "      <td>201</td>\n",
       "      <td>1096</td>\n",
       "      <td>FRA</td>\n",
       "      <td>CAUDRON Raoul (FRA)</td>\n",
       "      <td>Marcel LANGILLER</td>\n",
       "    </tr>\n",
       "    <tr>\n",
       "      <th>3</th>\n",
       "      <td>201</td>\n",
       "      <td>1096</td>\n",
       "      <td>MEX</td>\n",
       "      <td>LUQUE Juan (MEX)</td>\n",
       "      <td>Juan CARRENO</td>\n",
       "    </tr>\n",
       "    <tr>\n",
       "      <th>4</th>\n",
       "      <td>201</td>\n",
       "      <td>1096</td>\n",
       "      <td>FRA</td>\n",
       "      <td>CAUDRON Raoul (FRA)</td>\n",
       "      <td>Ernest LIBERATI</td>\n",
       "    </tr>\n",
       "    <tr>\n",
       "      <th>...</th>\n",
       "      <td>...</td>\n",
       "      <td>...</td>\n",
       "      <td>...</td>\n",
       "      <td>...</td>\n",
       "      <td>...</td>\n",
       "    </tr>\n",
       "    <tr>\n",
       "      <th>37779</th>\n",
       "      <td>255959</td>\n",
       "      <td>300186501</td>\n",
       "      <td>ARG</td>\n",
       "      <td>SABELLA Alejandro (ARG)</td>\n",
       "      <td>ALVAREZ</td>\n",
       "    </tr>\n",
       "    <tr>\n",
       "      <th>37780</th>\n",
       "      <td>255959</td>\n",
       "      <td>300186501</td>\n",
       "      <td>GER</td>\n",
       "      <td>LOEW Joachim (GER)</td>\n",
       "      <td>KHEDIRA</td>\n",
       "    </tr>\n",
       "    <tr>\n",
       "      <th>37781</th>\n",
       "      <td>255959</td>\n",
       "      <td>300186501</td>\n",
       "      <td>ARG</td>\n",
       "      <td>SABELLA Alejandro (ARG)</td>\n",
       "      <td>AGUERO</td>\n",
       "    </tr>\n",
       "    <tr>\n",
       "      <th>37782</th>\n",
       "      <td>255959</td>\n",
       "      <td>300186501</td>\n",
       "      <td>GER</td>\n",
       "      <td>LOEW Joachim (GER)</td>\n",
       "      <td>MUSTAFI</td>\n",
       "    </tr>\n",
       "    <tr>\n",
       "      <th>37783</th>\n",
       "      <td>255959</td>\n",
       "      <td>300186501</td>\n",
       "      <td>ARG</td>\n",
       "      <td>SABELLA Alejandro (ARG)</td>\n",
       "      <td>BASANTA</td>\n",
       "    </tr>\n",
       "  </tbody>\n",
       "</table>\n",
       "<p>37784 rows × 5 columns</p>\n",
       "</div>"
      ],
      "text/plain": [
       "       RoundID    MatchID Team Initials               Coach Name  \\\n",
       "0          201       1096           FRA      CAUDRON Raoul (FRA)   \n",
       "1          201       1096           MEX         LUQUE Juan (MEX)   \n",
       "2          201       1096           FRA      CAUDRON Raoul (FRA)   \n",
       "3          201       1096           MEX         LUQUE Juan (MEX)   \n",
       "4          201       1096           FRA      CAUDRON Raoul (FRA)   \n",
       "...        ...        ...           ...                      ...   \n",
       "37779   255959  300186501           ARG  SABELLA Alejandro (ARG)   \n",
       "37780   255959  300186501           GER       LOEW Joachim (GER)   \n",
       "37781   255959  300186501           ARG  SABELLA Alejandro (ARG)   \n",
       "37782   255959  300186501           GER       LOEW Joachim (GER)   \n",
       "37783   255959  300186501           ARG  SABELLA Alejandro (ARG)   \n",
       "\n",
       "            Player Name  \n",
       "0           Alex THEPOT  \n",
       "1       Oscar BONFIGLIO  \n",
       "2      Marcel LANGILLER  \n",
       "3          Juan CARRENO  \n",
       "4       Ernest LIBERATI  \n",
       "...                 ...  \n",
       "37779           ALVAREZ  \n",
       "37780           KHEDIRA  \n",
       "37781            AGUERO  \n",
       "37782           MUSTAFI  \n",
       "37783           BASANTA  \n",
       "\n",
       "[37784 rows x 5 columns]"
      ]
     },
     "execution_count": 21,
     "metadata": {},
     "output_type": "execute_result"
    }
   ],
   "source": [
    "wc_players_df"
   ]
  },
  {
   "cell_type": "markdown",
   "metadata": {},
   "source": [
    "#### Now, we have the desired data sets after cleaning and prepping the original data sets."
   ]
  },
  {
   "cell_type": "code",
   "execution_count": 22,
   "metadata": {},
   "outputs": [],
   "source": [
    "import jovian"
   ]
  },
  {
   "cell_type": "code",
   "execution_count": 23,
   "metadata": {},
   "outputs": [
    {
     "data": {
      "application/javascript": [
       "window.require && require([\"base/js/namespace\"],function(Jupyter){Jupyter.notebook.save_checkpoint()})"
      ],
      "text/plain": [
       "<IPython.core.display.Javascript object>"
      ]
     },
     "metadata": {},
     "output_type": "display_data"
    },
    {
     "name": "stdout",
     "output_type": "stream",
     "text": [
      "[jovian] Attempting to save notebook..\u001b[0m\n",
      "[jovian] Updating notebook \"radhikag99/radhika-course-project\" on https://jovian.ml/\u001b[0m\n",
      "[jovian] Uploading notebook..\u001b[0m\n",
      "[jovian] Capturing environment..\u001b[0m\n",
      "[jovian] Committed successfully! https://jovian.ml/radhikag99/radhika-course-project\u001b[0m\n"
     ]
    },
    {
     "data": {
      "text/plain": [
       "'https://jovian.ml/radhikag99/radhika-course-project'"
      ]
     },
     "execution_count": 23,
     "metadata": {},
     "output_type": "execute_result"
    }
   ],
   "source": [
    "jovian.commit()"
   ]
  },
  {
   "cell_type": "markdown",
   "metadata": {},
   "source": [
    "## Exploratory Analysis and Visualization\n",
    "We shall now look at a rough representation of some of the data in the stored dataframes to get an idea about what we are dealing with.\n",
    "\n"
   ]
  },
  {
   "cell_type": "markdown",
   "metadata": {},
   "source": [
    "> Instructions (delete this cell)\n",
    "> \n",
    "> - Compute the mean, sum, range and other interesting statistics for numeric columns\n",
    "> - Explore distributions of numeric columns using histograms etc.\n",
    "> - Explore relationship between columns using scatter plots, bar charts etc.\n",
    "> - Make a note of interesting insights from the exploratory analysis"
   ]
  },
  {
   "cell_type": "code",
   "execution_count": 24,
   "metadata": {},
   "outputs": [],
   "source": [
    "import seaborn as sns\n",
    "import matplotlib\n",
    "import matplotlib.pyplot as plt\n",
    "%matplotlib inline\n",
    "\n",
    "sns.set_style('darkgrid')\n",
    "matplotlib.rcParams['font.size'] = 14\n",
    "matplotlib.rcParams['figure.figsize'] = (9, 5)\n",
    "matplotlib.rcParams['figure.facecolor'] = '#00000000'"
   ]
  },
  {
   "cell_type": "markdown",
   "metadata": {},
   "source": [
    "#### No. of Goals Scored each World Cup"
   ]
  },
  {
   "cell_type": "code",
   "execution_count": 25,
   "metadata": {},
   "outputs": [
    {
     "data": {
      "image/png": "[encoded data removed]",
      "text/plain": [
       "<Figure size 1440x720 with 1 Axes>"
      ]
     },
     "metadata": {
      "needs_background": "light"
     },
     "output_type": "display_data"
    }
   ],
   "source": [
    "#plt.bar(wc_cup_df.Year, wc_cup_df.GoalsScored,width = 1)\n",
    "\n",
    "plt.rcParams['figure.figsize'] = (20, 10)\n",
    "sns.barplot(x = wc_cup_df.Year, y = wc_cup_df.GoalsScored, palette = 'icefire');\n",
    "plt.xlabel(xlabel = 'Years', fontsize = 16);\n",
    "plt.ylabel(ylabel = 'Goals Scored Each Year', fontsize = 16);\n",
    "\n",
    "#sns.lmplot(x=\"Year\", y=\"GoalsScored\",data=wc_cup_df,width=2)"
   ]
  },
  {
   "cell_type": "markdown",
   "metadata": {},
   "source": [
    "#### Plotting Matches Played and Teams qualified each year.\n",
    "<br> Looks like both reach a constant after 1998"
   ]
  },
  {
   "cell_type": "code",
   "execution_count": 26,
   "metadata": {},
   "outputs": [
    {
     "data": {
      "image/png": "[encoded data removed]",
      "text/plain": [
       "<Figure size 1440x720 with 1 Axes>"
      ]
     },
     "metadata": {
      "needs_background": "light"
     },
     "output_type": "display_data"
    }
   ],
   "source": [
    "sns.lineplot(data=wc_cup_df, x=\"Year\", y=\"MatchesPlayed\", label=\"Matches Played Each Year\" , linewidth=4);\n",
    "sns.lineplot(data=wc_cup_df, x=\"Year\", y=\"QualifiedTeams\",label=\"Teams Qualified Each Year\", linewidth=4);\n",
    "plt.xlabel(xlabel = 'Years', fontsize = 16);\n",
    "plt.ylabel(ylabel = '', fontsize = 16);"
   ]
  },
  {
   "cell_type": "markdown",
   "metadata": {},
   "source": [
    "#### Winners of the World Cup"
   ]
  },
  {
   "cell_type": "code",
   "execution_count": 27,
   "metadata": {},
   "outputs": [
    {
     "data": {
      "image/png": "[encoded data removed]",
      "text/plain": [
       "<Figure size 720x720 with 1 Axes>"
      ]
     },
     "metadata": {
      "needs_background": "light"
     },
     "output_type": "display_data"
    },
    {
     "data": {
      "text/plain": [
       "<Figure size 1512x432 with 0 Axes>"
      ]
     },
     "metadata": {},
     "output_type": "display_data"
    }
   ],
   "source": [
    "plt.rcParams['figure.figsize'] = (10, 10)\n",
    "#colors = np.random.rand(50)\n",
    "plt.scatter(wc_cup_df.Year,wc_cup_df.Country,c='purple', alpha=1)\n",
    "#sns.relplot(x=\"Year\", y=\"Country\", data=wc_cup_df);\n",
    "plt.figure(figsize=(21,6));"
   ]
  },
  {
   "cell_type": "markdown",
   "metadata": {},
   "source": [
    "Let us save and upload our work to Jovian before continuing"
   ]
  },
  {
   "cell_type": "code",
   "execution_count": 28,
   "metadata": {},
   "outputs": [],
   "source": [
    "import jovian"
   ]
  },
  {
   "cell_type": "code",
   "execution_count": 29,
   "metadata": {},
   "outputs": [
    {
     "data": {
      "application/javascript": [
       "window.require && require([\"base/js/namespace\"],function(Jupyter){Jupyter.notebook.save_checkpoint()})"
      ],
      "text/plain": [
       "<IPython.core.display.Javascript object>"
      ]
     },
     "metadata": {},
     "output_type": "display_data"
    },
    {
     "name": "stdout",
     "output_type": "stream",
     "text": [
      "[jovian] Attempting to save notebook..\u001b[0m\n",
      "[jovian] Updating notebook \"radhikag99/radhika-course-project\" on https://jovian.ml/\u001b[0m\n",
      "[jovian] Uploading notebook..\u001b[0m\n",
      "[jovian] Capturing environment..\u001b[0m\n",
      "[jovian] Committed successfully! https://jovian.ml/radhikag99/radhika-course-project\u001b[0m\n"
     ]
    },
    {
     "data": {
      "text/plain": [
       "'https://jovian.ml/radhikag99/radhika-course-project'"
      ]
     },
     "execution_count": 29,
     "metadata": {},
     "output_type": "execute_result"
    }
   ],
   "source": [
    "jovian.commit()"
   ]
  },
  {
   "cell_type": "markdown",
   "metadata": {},
   "source": [
    "## Question and Answers\n",
    "Let us perform an analysis on the datasets imported by raising relevant questions and answering them with mathematical computations and graphical representations."
   ]
  },
  {
   "cell_type": "markdown",
   "metadata": {},
   "source": [
    "#### Q1: Which particular world cup match had the most number of spectators?"
   ]
  },
  {
   "cell_type": "code",
   "execution_count": 30,
   "metadata": {},
   "outputs": [
    {
     "data": {
      "text/plain": [
       "array([  4444.,  18346.,  24059.,   2549.,  23409.,   9249.,  18306.,\n",
       "        18306.,  57735.,   2000.,  42100.,  25466.,  12000.,  70022.,\n",
       "        41459.,  72886.,  79867.,  68346.,  16000.,   9000.,  33000.,\n",
       "        14000.,   8000.,  21000.,  25000.,   9000.,  12000.,   3000.,\n",
       "        35000.,  23000.,  43000.,  35000.,  15000.,   7000.,  55000.,\n",
       "        27152.,   9000.,  30454.,   7000.,  19000.,  13452.,  11000.,\n",
       "         8000.,  20025.,  22021.,  15000.,   7000.,  58455.,  18141.,\n",
       "        20000.,  33000.,  12000.,  45000.,  81649.,  29703.,   9511.,\n",
       "        36502.,   7336.,  42032.,  11078.,  19790.,   7903.,  10151.,\n",
       "       142429.,  74462.,  25811.,   5284.,   3580.,   8501.,  44802.,\n",
       "       138886., 152772.,   7987.,  11227., 173850.,  20500.,  25000.,\n",
       "        13470.,  16000.,  28000.,  13000.,  14000.,  43000.,  34000.,\n",
       "        26000.,  19000.,  24637.,  56000.,   4000.,  43500.,  24000.,\n",
       "        17000.,  30000.,  28000.,  35000.,  17000.,  40000.,  58000.,\n",
       "        45000.,  32000.,  62500.,  34107.,  49348.,  31156.,  15343.,\n",
       "        16518.,   9591.,  17788.,  10647.,  40895.,  15150.,  11665.,\n",
       "        12217.,  21239.,  25000.,  14174.,  38850.,  30287.,  50928.,\n",
       "        21990.,  13300.,  13103.,  13554.,  15872.,  16418.,  23182.,\n",
       "         6196.,   2823.,  25923.,  20055.,  31900.,  11800.,  49471.,\n",
       "        27100.,  32483.,  49737.,   7908.,  10484.,   7134.,  65006.,\n",
       "         9622.,  12700.,   7938.,  65440.,   8829.,  14903.,   9794.,\n",
       "        66057.,   8040.,  11875.,   7442.,  64922.,   9973.,  18715.,\n",
       "         7945.,  67224.,   7167.,  10648.,   5700.,  59828.,  17268.,\n",
       "        17736.,  11690.,  63324.,   5890.,  76594.,  66697.,  68679.,\n",
       "        87148.,  36127.,  47308.,  23006.,  69237.,  29886.,  42738.,\n",
       "        27199.,  45662.,  32028.,  51387.,  13792.,  25438.,  46587.,\n",
       "        27793.,  92570.,  61112.,  32127.,  58479.,  17829.,  98270.,\n",
       "        24129.,  42187.,  16027.,  90584.,  40007.,  26844.,  40248.,\n",
       "        38273.,  94493.,  87696.,  96924., 107160.,  20654.,  13765.,\n",
       "        50560.,  13433.,  12942.,  52897.,  92205.,  29968.,  13537.,\n",
       "        56818.,  95261.,   9624.,  12710.,  66843., 103058.,  18163.,\n",
       "        17875.,  50804.,  89979.,   9890.,  12299.,  49292., 108192.,\n",
       "        26851.,  23357.,  54233.,  26085.,  51261., 102444., 104403.,\n",
       "       107412.,  62000.,  81100.,  17000.,  27000.,  55100.,  23800.,\n",
       "        53000.,  32700.,  53300.,  62000.,  28300.,  31700.,  53700.,\n",
       "        13400.,  25300.,  70100.,  56000.,  17400.,  36200.,  60200.,\n",
       "        53300.,  25900.,  28300.,  70100.,  67385.,  59863.,  56548.,\n",
       "        44955.,  39400.,  58000.,  68348.,  67800.,  62000.,  53700.,\n",
       "        54254.,  41300.,  77100.,  78200.,  67579.,  42373.,  17396.,\n",
       "        71615.,  32569.,  40841.,  37927.,  33431.,  26533.,   9624.,\n",
       "        35258.,  71666.,  34771.,  41424.,   7938.,  28125.,  23127.,\n",
       "        22651.,  30667.,  71712.,  35221.,  42132.,  21262.,  35130.,\n",
       "        67547.,  25050.,  31278.,  37091.,  35288.,  66695.,  40750.,\n",
       "        37326.,  67433.,  38318.,  39586.,  37315.,  69659.,  71483.,\n",
       "        95000.,  33000.,  68000.,  11000.,  23000.,  36000.,  42000.,\n",
       "        44172.,  49562.,  22500.,  25000.,  25000.,  25000.,  32093.,\n",
       "        47379.,  19000.,  15000.,  19000.,  42000.,  41123.,  48000.,\n",
       "        22000.,  30043.,  15000.,  25000.,  37000.,  45000.,  20000.,\n",
       "        32500.,  43000.,  16000.,  28000.,  25000.,  41000.,  39700.,\n",
       "        49562.,  37000.,  65000.,  43000.,  75000.,  20000.,  45000.,\n",
       "        44000.,  90089.,  37000.,  65000.,  44000.,  75000.,  50000.,\n",
       "        70000.,  28000.,  90000.,  96000.,  65500.,  35748.,  16500.,\n",
       "        60000.,  19900.,  22000., 110000.,  23000.,  24000.,  18000.,\n",
       "        30500.,  32000.,  36540.,  45000.,  13800.,  48000.,  20200.,\n",
       "        28000., 114600.,  19915.,  20000.,  26500.,  30000.,  31420.,\n",
       "        14200.,  20000.,  65000.,  16000., 103763.,  28000.,  22700.,\n",
       "        51000.,  23980.,  20000.,  36000.,  32277., 114580.,  26000.,\n",
       "        45000.,  70000.,  19800.,  98728.,  38500.,  65000.,  41700.,\n",
       "        45000., 114580.,  45000., 114500.,  21000., 114600.,  73780.,\n",
       "        42907.,  30791.,  73303.,  33266.,  62628.,  74765.,  30867.,\n",
       "        35238.,  32790.,  33288.,  35713.,  55759.,  38687.,  32257.,\n",
       "        73423.,  38962.,  71169.,  58007.,  31823.,  35267.,  33288.,\n",
       "        32733.,  33759.,  52733.,  37307.,  72510.,  27833.,  73303.,\n",
       "        34857.,  62502.,  30223.,  29039.,  35950.,  33288.,  34959.,\n",
       "        50026.,  47673.,  61381.,  74559.,  31818.,  73303.,  35500.,\n",
       "        34520.,  38971.,  73303.,  73347.,  55205.,  59978.,  62628.,\n",
       "        51426.,  73603.,  56247.,  63117.,  73425.,  75338.,  91856.,\n",
       "        61219.,  52395.,  93194.,  50535.,  81061.,  54456.,  44132.,\n",
       "        63113.,  61428.,  93869.,  74624.,  54453.,  60790.,  71528.,\n",
       "        83401.,  62387.,  76322.,  54453.,  63160.,  93869.,  83401.,\n",
       "        63998.,  63089.,  72404.,  77217.,  52535.,  74914.,  60578.,\n",
       "        52959.,  53001.,  63998.,  60246.,  53121.,  60277.,  90469.,\n",
       "        61355.,  84147.,  54367.,  71030.,  53400.,  63500.,  72000.,\n",
       "        83500.,  74110.,  91856.,  91500.,  94194.,  80000.,  29800.,\n",
       "        31800.,  33500.,  29800.,  38100.,  55000.,  35500.,  39100.,\n",
       "        77000.,  33500.,  30600.,  38100.,  55000.,  39100.,  45500.,\n",
       "        31800.,  35500.,  30600.,  29800.,  33500.,  80000.,  45500.,\n",
       "        30600.,  35500.,  31800.,  55000.,  38100.,  45500.,  39100.,\n",
       "        29800.,  33500.,  80000.,  35500.,  30600.,  55000.,  39100.,\n",
       "        31800.,  38100.,  33500.,  45500.,  30600.,  29800.,  35500.,\n",
       "        39100.,  31800.,  77000.,  38100.,  55000.,  45500.,  31800.,\n",
       "        77000.,  29800.,  33500.,  31800.,  30600.,  77000.,  35500.,\n",
       "        55000.,  39100.,  54000.,  76000.,  45500.,  80000.,  62561.,\n",
       "        30157.,  33679.,  32218.,  34050.,  25186.,  52721.,  28598.,\n",
       "        33842.,  31081.,  32239.,  27217.,  55256.,  48760.,  30957.,\n",
       "        37306.,  35854.,  43500.,  52328.,  38289.,  36194.,  35927.,\n",
       "        24000.,  47226.,  36750.,  36472.,  42299.,  66108.,  45610.,\n",
       "        60778.,  31000.,  39700.,  48100.,  33681.,  65320.,  47085.,\n",
       "        45777.,  44864.,  30176.,  31024.,  38524.,  43605.,  65862.,\n",
       "        39291.,  45213.,  50239.,  26482.,  46640.,  40582.,  25176.,\n",
       "        38926.,  39747.,  40440.,  36380.,  45666.,  38588.,  47436.,\n",
       "        37337.,  44233.,  42114.,  65256.,  61058.,  63483.,  69029.,\n",
       "        66000.,  52000.,  48000.,  62959.,  49480.,  43000.,  41000.,\n",
       "        45000.,  46000.,  52000.,  43000.,  48000.,  52000.,  72000.,\n",
       "        43000.,  66000.,  65000.,  50000.,  41000.,  72000.,  52000.,\n",
       "        52000.,  43000.,  48000.,  45000.,  46000.,  41000.,  66000.,\n",
       "        43000.,  65000.,  50000.,  52000.,  72000.,  43000.,  45000.,\n",
       "        46000.,  38000.,  52000.,  48000.,  66000.,  50000.,  41000.,\n",
       "        65000.,  52000.,  72000.,  46000.,  45000.,  43000.,  66000.,\n",
       "        43000.,  52000.,  41000.,  46000.,  45000.,  65000.,  43000.,\n",
       "        72000.,  50000.,  52000.,  48000.,  65000.,  66000.,  52000.,\n",
       "        69000.,  84490.,  64100.,  31513.,  55686.,  38646.,  30325.,\n",
       "        38833.,  62660.,  83465.,  30620.,  62869.,  23871.,  37034.,\n",
       "        54331.,  32664.,  62453.,  42658.,  82174.,  31593.,  35370.,\n",
       "        38294.,  45573.,  64100.,  62010.,  34812.,  38074.,  26643.,\n",
       "        38229.,  84455.,  63644.,  34872.,  54386.,  33425.,  39415.,\n",
       "        61874.,  38891.,  36893.,  35827.,  83391.,  37836.,  53412.,\n",
       "        34850.,  27967.,  63093.,  62712.,  34763.,  41958.,  28042.,\n",
       "        30597.,  34976.,  40510.,  84377.,  61962.,  54096.,  36742.,\n",
       "        62955.,  40186.,  84017.,  64100.,  55359.,  62479.,  60960.,\n",
       "        36254.,  84490.,  62103.,  39216.,  48173.,  40275.,  57174.,\n",
       "        58679.,  39800.,  40267.,  68351.,  43012.,  74738.,  51081.,\n",
       "        39081.,  39760.,  56800.,  60342.,  37603.,  42877.,  74101.,\n",
       "        39982.,  68748.,  62575.,  39485.,  40285.,  51003.,  39224.,\n",
       "        57698.,  59621.,  40499.,  73819.,  42732.,  40123.,  39375.,\n",
       "        62996.,  69112.,  41212.,  39706.,  57823.,  40340.,  59095.,\n",
       "        43285.,  48011.,  40322.,  73749.,  41876.,  67540.,  61397.,\n",
       "        39311.,  57714.,  73804.,  67882.,      0.,  60342.,  74240.,\n",
       "        58141.,  68034.,  74738.,  63267.,  51179.,  68551.,  58817.,\n",
       "        41242.,  63255.,  51227.,  57714.,  73804.,  58817.,  41242.,\n",
       "        67882.,      0.,  63255.,  51227.,  74240.,  60342.,  68551.,\n",
       "        51179.,  58141.,  63267.,  68034.,  74738.])"
      ]
     },
     "execution_count": 30,
     "metadata": {},
     "output_type": "execute_result"
    }
   ],
   "source": [
    "match_attendance = np.array(wc_matches_df.Attendance)\n",
    "match_attendance "
   ]
  },
  {
   "cell_type": "code",
   "execution_count": 31,
   "metadata": {},
   "outputs": [
    {
     "data": {
      "text/plain": [
       "173850.0"
      ]
     },
     "execution_count": 31,
     "metadata": {},
     "output_type": "execute_result"
    },
    {
     "data": {
      "image/png": "[encoded data removed]",
      "text/plain": [
       "<Figure size 720x720 with 1 Axes>"
      ]
     },
     "metadata": {
      "needs_background": "light"
     },
     "output_type": "display_data"
    }
   ],
   "source": [
    "attendance_max = match_attendance[0]\n",
    "for attendance in match_attendance:\n",
    "    if attendance > attendance_max:\n",
    "        attendance_max = attendance\n",
    "index_max_attendance = np.unravel_index(np.argmax(match_attendance, axis=None), match_attendance.shape)\n",
    "#att_max = np.amax(match_attendance)\n",
    "#sns.lineplot(data=wc_matches_df[\"Attendance\"])\n",
    "plt.plot(match_attendance);\n",
    "#attendance_max\n",
    "#att_max\n",
    "attendance_max\n"
   ]
  },
  {
   "cell_type": "code",
   "execution_count": 32,
   "metadata": {},
   "outputs": [
    {
     "data": {
      "text/plain": [
       "74"
      ]
     },
     "execution_count": 32,
     "metadata": {},
     "output_type": "execute_result"
    }
   ],
   "source": [
    "index_max_attendance[0]"
   ]
  },
  {
   "cell_type": "markdown",
   "metadata": {},
   "source": [
    "Therefore, we can see that the maximum number of spectators a match had was 173850 people."
   ]
  },
  {
   "cell_type": "code",
   "execution_count": 33,
   "metadata": {},
   "outputs": [
    {
     "name": "stdout",
     "output_type": "stream",
     "text": [
      "The World Cup Match with maximum spectators was held in the year 1950 for the match of Uruguay versus Brazil at the stadium Maracan� - Est�dio Jornalista M�rio Filho, Rio De Janeiro \n"
     ]
    }
   ],
   "source": [
    "year_max = int(wc_matches_df.Year[index_max_attendance[0]])\n",
    "home_max = wc_matches_df[\"Home Team Name\"][index_max_attendance[0]]\n",
    "away_max = wc_matches_df[\"Away Team Name\"][index_max_attendance[0]]\n",
    "stadium_max = wc_matches_df.Stadium[index_max_attendance[0]]\n",
    "city_max = wc_matches_df.City[index_max_attendance[0]]\n",
    "\n",
    "print('The World Cup Match with maximum spectators was held in the year {} for the match of {} versus {} at the stadium {}, {}'.format(year_max,home_max,away_max,stadium_max,city_max))\n"
   ]
  },
  {
   "cell_type": "markdown",
   "metadata": {},
   "source": [
    "#### Q2: How many times have Spain made it to the top 4 of the World Cup?"
   ]
  },
  {
   "cell_type": "code",
   "execution_count": 34,
   "metadata": {},
   "outputs": [],
   "source": [
    "#results_wc = np.array([wc_cup_df[\"Winner\"],wc_cup_df[\"Runners-Up\"], wc_cup_df[\"Third\"] ,wc_cup_df[\"Fourth\"]])\n",
    "winners = np.array(wc_cup_df[\"Winner\"])\n",
    "runners_up =np.array(wc_cup_df[\"Runners-Up\"])\n",
    "third = np.array(wc_cup_df[\"Third\"])\n",
    "fourth = np.array(wc_cup_df[\"Fourth\"])\n",
    "w_ctr=0\n",
    "run_ctr=0\n",
    "th_ctr=0\n",
    "fo_ctr=0\n",
    "for winner in winners:\n",
    "    if winner == \"Spain\":\n",
    "        w_ctr+=1\n",
    "for runner_up in runners_up:\n",
    "    if runner_up == \"Spain\":\n",
    "        run_ctr+=1\n",
    "for th in third:\n",
    "    if th == \"Spain\":\n",
    "        th_ctr+=1\n",
    "for fou in fourth:\n",
    "    if fou == \"Spain\":\n",
    "        fo_ctr+=1"
   ]
  },
  {
   "cell_type": "code",
   "execution_count": 35,
   "metadata": {},
   "outputs": [
    {
     "name": "stdout",
     "output_type": "stream",
     "text": [
      "Spain has won the World Cup 1 time, has been the Runner Up 0 time, has come third 0 times and fourth 1 time.\n",
      "Therefore, Spain has come to the top four 2 times.\n"
     ]
    }
   ],
   "source": [
    "print('Spain has won the World Cup {} time, has been the Runner Up {} time, has come third {} times and fourth {} time.'.format(w_ctr,run_ctr,th_ctr,fo_ctr))\n",
    "print('Therefore, Spain has come to the top four {} times.'.format(w_ctr+run_ctr+th_ctr+fo_ctr))\n"
   ]
  },
  {
   "cell_type": "markdown",
   "metadata": {},
   "source": [
    "#### Q3: What percentage of matches played by a team in their home ground is won?"
   ]
  },
  {
   "cell_type": "code",
   "execution_count": 36,
   "metadata": {},
   "outputs": [],
   "source": [
    "home_teams_array = np.array(wc_matches_df[\"Home Team Name\"])\n",
    "home_goals_array = np.array(wc_matches_df[\"Home Team Goals\"])\n",
    "away_goals_array = np.array(wc_matches_df[\"Away Team Goals\"])\n",
    "wins_count = 0\n",
    "loss_count = 0\n",
    "draw_count = 0\n"
   ]
  },
  {
   "cell_type": "code",
   "execution_count": 37,
   "metadata": {},
   "outputs": [
    {
     "data": {
      "text/plain": [
       "488"
      ]
     },
     "execution_count": 37,
     "metadata": {},
     "output_type": "execute_result"
    }
   ],
   "source": [
    "len_home_teams = len(home_teams_array)\n",
    "for item in range(len_home_teams):\n",
    "    if home_goals_array[item] > away_goals_array[item]:\n",
    "        wins_count += 1\n",
    "    elif home_goals_array[item] == away_goals_array[item]:\n",
    "        draw_count +=1\n",
    "    else:\n",
    "        loss_count += 1\n",
    "wins_count"
   ]
  },
  {
   "cell_type": "code",
   "execution_count": 38,
   "metadata": {},
   "outputs": [
    {
     "data": {
      "image/png": "[encoded data removed]",
      "text/plain": [
       "<Figure size 720x720 with 1 Axes>"
      ]
     },
     "metadata": {
      "needs_background": "light"
     },
     "output_type": "display_data"
    }
   ],
   "source": [
    "x_axis = np.arange(3)\n",
    "y_axis = [wins_count, loss_count, draw_count]\n",
    "plt.bar(x_axis, y_axis, color ='maroon',  \n",
    "        width = 0.4)\n",
    "plt.xticks(x_axis, ('Home Wins', 'Home Losses', 'Home Draws'))\n",
    "plt.show()"
   ]
  },
  {
   "cell_type": "code",
   "execution_count": 39,
   "metadata": {},
   "outputs": [
    {
     "name": "stdout",
     "output_type": "stream",
     "text": [
      "Home wins = 488 Home Losses = 174 Home Draws = 190\n",
      "Percentage of Home wins and draws = 79%\n"
     ]
    }
   ],
   "source": [
    "print('Home wins = {} Home Losses = {} Home Draws = {}'.format(wins_count, loss_count, draw_count))\n",
    "wins_draws_perc = ((wins_count+draw_count)/(wins_count + loss_count + draw_count))*100\n",
    "print('Percentage of Home wins and draws = {}%' .format(int(wins_draws_perc)))"
   ]
  },
  {
   "cell_type": "markdown",
   "metadata": {},
   "source": [
    "#### Therefore, it is safe to make a conclusion that playing a match at a home ground can prove to be favourable."
   ]
  },
  {
   "cell_type": "markdown",
   "metadata": {},
   "source": [
    "#### Q4: What was the squad of players of Belgium in the match against Netherlands in the year 1998?"
   ]
  },
  {
   "cell_type": "code",
   "execution_count": 50,
   "metadata": {},
   "outputs": [
    {
     "name": "stdout",
     "output_type": "stream",
     "text": [
      "The squad of players that played the World Cup in 1998 for Belgium are: \n",
      "\n"
     ]
    },
    {
     "data": {
      "text/plain": [
       "array([1014., 1014., 8765.])"
      ]
     },
     "execution_count": 50,
     "metadata": {},
     "output_type": "execute_result"
    }
   ],
   "source": [
    "match_year = 1998\n",
    "round_id = np.array([])\n",
    "match_id = np.array([])\n",
    "\n",
    "print(\"The squad of players that played the World Cup in 1998 for Belgium are: \\n\")\n",
    "\n",
    "for i in range(len_home_teams):\n",
    "    if wc_matches_df[\"Year\"][i] == match_year:\n",
    "        if wc_matches_df[\"Home Team Name\"][i] == \"Belgium\" or wc_matches_df[\"Home Team Name\"][i] == \"Belgium\" :\n",
    "            round_id = np.append( round_id, np.array(wc_matches_df[\"RoundID\"][i]))\n",
    "            match_id = np.append( round_id, np.array(wc_matches_df[\"MatchID\"][i]))\n",
    "\n",
    "match_id "
   ]
  },
  {
   "cell_type": "code",
   "execution_count": null,
   "metadata": {},
   "outputs": [],
   "source": []
  },
  {
   "cell_type": "code",
   "execution_count": null,
   "metadata": {},
   "outputs": [],
   "source": []
  },
  {
   "cell_type": "markdown",
   "metadata": {},
   "source": [
    "#### Q5: Which team had the highest ratio of wins to losses in the year 2010?"
   ]
  },
  {
   "cell_type": "code",
   "execution_count": null,
   "metadata": {},
   "outputs": [],
   "source": []
  },
  {
   "cell_type": "code",
   "execution_count": null,
   "metadata": {},
   "outputs": [],
   "source": []
  },
  {
   "cell_type": "code",
   "execution_count": null,
   "metadata": {},
   "outputs": [],
   "source": []
  },
  {
   "cell_type": "markdown",
   "metadata": {},
   "source": [
    "Let us save and upload our work to Jovian before continuing."
   ]
  },
  {
   "cell_type": "code",
   "execution_count": 51,
   "metadata": {},
   "outputs": [],
   "source": [
    "import jovian"
   ]
  },
  {
   "cell_type": "code",
   "execution_count": 52,
   "metadata": {},
   "outputs": [
    {
     "data": {
      "application/javascript": [
       "window.require && require([\"base/js/namespace\"],function(Jupyter){Jupyter.notebook.save_checkpoint()})"
      ],
      "text/plain": [
       "<IPython.core.display.Javascript object>"
      ]
     },
     "metadata": {},
     "output_type": "display_data"
    },
    {
     "name": "stdout",
     "output_type": "stream",
     "text": [
      "[jovian] Attempting to save notebook..\u001b[0m\n",
      "[jovian] Updating notebook \"radhikag99/radhika-course-project\" on https://jovian.ml/\u001b[0m\n",
      "[jovian] Uploading notebook..\u001b[0m\n",
      "[jovian] Capturing environment..\u001b[0m\n",
      "[jovian] Committed successfully! https://jovian.ml/radhikag99/radhika-course-project\u001b[0m\n"
     ]
    },
    {
     "data": {
      "text/plain": [
       "'https://jovian.ml/radhikag99/radhika-course-project'"
      ]
     },
     "execution_count": 52,
     "metadata": {},
     "output_type": "execute_result"
    }
   ],
   "source": [
    "jovian.commit()"
   ]
  },
  {
   "cell_type": "markdown",
   "metadata": {},
   "source": [
    "## Inferences and Conclusion\n",
    "\n",
    "**TODO** - Write some explanation here: a summary of all the inferences drawn from the analysis, and any conclusions you may have drawn by answering various questions."
   ]
  },
  {
   "cell_type": "code",
   "execution_count": 53,
   "metadata": {},
   "outputs": [],
   "source": [
    "import jovian"
   ]
  },
  {
   "cell_type": "code",
   "execution_count": null,
   "metadata": {},
   "outputs": [
    {
     "data": {
      "application/javascript": [
       "window.require && require([\"base/js/namespace\"],function(Jupyter){Jupyter.notebook.save_checkpoint()})"
      ],
      "text/plain": [
       "<IPython.core.display.Javascript object>"
      ]
     },
     "metadata": {},
     "output_type": "display_data"
    },
    {
     "name": "stdout",
     "output_type": "stream",
     "text": [
      "[jovian] Attempting to save notebook..\u001b[0m\n"
     ]
    }
   ],
   "source": [
    "jovian.commit()"
   ]
  },
  {
   "cell_type": "markdown",
   "metadata": {},
   "source": [
    "## References and Future Work\n",
    "\n",
    "**TODO** - Write some explanation here: ideas for future projects using this dataset, and links to resources you found useful."
   ]
  },
  {
   "cell_type": "markdown",
   "metadata": {},
   "source": [
    "> Submission Instructions (delete this cell)\n",
    "> \n",
    "> - Upload your notebook to your Jovian.ml profile using `jovian.commit`.\n",
    "> - **Make a submission here**: https://jovian.ml/learn/data-analysis-with-python-zero-to-pandas/assignment/course-project\n",
    "> - Share your work on the forum: https://jovian.ml/forum/t/course-project-on-exploratory-data-analysis-discuss-and-share-your-work/11684\n",
    "> - Share your work on social media (Twitter, LinkedIn, Telegram etc.) and tag [@JovianML](https://twitter.com/jovianml)\n",
    ">\n",
    "> (Optional) Write a blog post\n",
    "> \n",
    "> - A blog post is a great way to present and showcase your work.  \n",
    "> - Sign up on [Medium.com](https://medium.com) to write a blog post for your project.\n",
    "> - Copy over the explanations from your Jupyter notebook into your blog post, and [embed code cells & outputs](https://medium.com/jovianml/share-and-embed-jupyter-notebooks-online-with-jovian-ml-df709a03064e)\n",
    "> - Check out the Jovian.ml Medium publication for inspiration: https://medium.com/jovianml\n",
    "\n",
    "\n",
    " "
   ]
  },
  {
   "cell_type": "code",
   "execution_count": null,
   "metadata": {},
   "outputs": [],
   "source": [
    "import jovian"
   ]
  },
  {
   "cell_type": "code",
   "execution_count": null,
   "metadata": {
    "scrolled": true
   },
   "outputs": [],
   "source": [
    "jovian.commit()"
   ]
  },
  {
   "cell_type": "code",
   "execution_count": null,
   "metadata": {},
   "outputs": [],
   "source": []
  },
  {
   "cell_type": "code",
   "execution_count": null,
   "metadata": {},
   "outputs": [],
   "source": []
  },
  {
   "cell_type": "code",
   "execution_count": null,
   "metadata": {},
   "outputs": [],
   "source": []
  },
  {
   "cell_type": "code",
   "execution_count": null,
   "metadata": {},
   "outputs": [],
   "source": []
  },
  {
   "cell_type": "code",
   "execution_count": null,
   "metadata": {},
   "outputs": [],
   "source": []
  },
  {
   "cell_type": "code",
   "execution_count": null,
   "metadata": {},
   "outputs": [],
   "source": []
  },
  {
   "cell_type": "code",
   "execution_count": null,
   "metadata": {},
   "outputs": [],
   "source": []
  }
 ],
 "metadata": {
  "language_info": {
   "codemirror_mode": {
    "name": "ipython",
    "version": 3
   },
   "file_extension": ".py",
   "mimetype": "text/x-python",
   "name": "python",
   "nbconvert_exporter": "python",
   "pygments_lexer": "ipython3",
   "version": "3.8.5"
  }
 },
 "nbformat": 4,
 "nbformat_minor": 4
}